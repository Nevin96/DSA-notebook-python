{
 "cells": [
  {
   "cell_type": "code",
   "execution_count": 4,
   "id": "3e73f6ae",
   "metadata": {},
   "outputs": [
    {
     "data": {
      "text/plain": [
       "3"
      ]
     },
     "execution_count": 4,
     "metadata": {},
     "output_type": "execute_result"
    }
   ],
   "source": [
    "def paranth(s):\n",
    "    count = 0\n",
    "    max_c = 0\n",
    "    for i in s:\n",
    "        if i == '(':\n",
    "            count+=1\n",
    "            max_c = max(max_c,count)\n",
    "        elif i == ')':\n",
    "            count -= 1\n",
    "    return max_c\n",
    "\n",
    "s = \"()(())((()()))\"\n",
    "paranth(s)"
   ]
  },
  {
   "cell_type": "code",
   "execution_count": 11,
   "id": "b75a9d5f",
   "metadata": {},
   "outputs": [
    {
     "data": {
      "text/plain": [
       "890"
      ]
     },
     "execution_count": 11,
     "metadata": {},
     "output_type": "execute_result"
    }
   ],
   "source": [
    "def rom_to_int(s):\n",
    "    total = 0\n",
    "    roman = {\n",
    "        'I' : 1,\n",
    "        'V' : 5,\n",
    "        'X' : 10,\n",
    "        'L' : 50,\n",
    "        'C' : 100,\n",
    "        'D' : 500,\n",
    "        'M' : 1000,\n",
    "    }\n",
    "    for c,v in zip(s,s[1:]):\n",
    "        if roman[c]<roman[v]:\n",
    "            total -= roman[c]\n",
    "        else:\n",
    "            total += roman[c]\n",
    "    return total + roman[s[-1]]\n",
    "        \n",
    "s = \"DCCCXC\"\n",
    "rom_to_int(s)"
   ]
  },
  {
   "cell_type": "code",
   "execution_count": 32,
   "id": "acf02e27",
   "metadata": {},
   "outputs": [
    {
     "data": {
      "text/plain": [
       "-2147483648"
      ]
     },
     "execution_count": 32,
     "metadata": {},
     "output_type": "execute_result"
    }
   ],
   "source": [
    "def atoi(s):\n",
    "    s = s.strip()\n",
    "    if not s:\n",
    "        return 0\n",
    "    sign = 1\n",
    "    i = 0\n",
    "    if s[i] == '-':\n",
    "        sign = -1\n",
    "        i+=1\n",
    "    elif s[i] == '+':\n",
    "        sign = 1\n",
    "        i+=1\n",
    "    num = 0\n",
    "    INT_MAX = 2**31-1\n",
    "    INT_MIN = -2**31\n",
    "    while i < len(s) and s[i].isdigit():\n",
    "        digit = int(s[i])\n",
    "        # if num > (INT_MAX - digit)//10:\n",
    "        #     if sign==1: return INT_MAX\n",
    "        #     else: return INT_MIN\n",
    "        num = num *10 + digit\n",
    "        i+=1\n",
    "    return max(min(num * sign,INT_MAX),INT_MIN)\n",
    "\n",
    "\n",
    "s = \"-91283472332\"\n",
    "atoi(s)"
   ]
  },
  {
   "cell_type": "code",
   "execution_count": 34,
   "id": "6615c760",
   "metadata": {},
   "outputs": [
    {
     "data": {
      "text/plain": [
       "6.0"
      ]
     },
     "execution_count": 34,
     "metadata": {},
     "output_type": "execute_result"
    }
   ],
   "source": [
    "def count(s):\n",
    "    return len(s)*((len(s)+1)/2)\n",
    "s = 'abc'\n",
    "count(s)"
   ]
  },
  {
   "cell_type": "code",
   "execution_count": 37,
   "id": "525811c5",
   "metadata": {},
   "outputs": [
    {
     "data": {
      "text/plain": [
       "'blue is sky the'"
      ]
     },
     "execution_count": 37,
     "metadata": {},
     "output_type": "execute_result"
    }
   ],
   "source": [
    "def rev_word(s):\n",
    "    s = s.split()\n",
    "    a =[]\n",
    "    for i in range(len(s)):\n",
    "        last = s[len(s)-1-i]\n",
    "        a.append(last)\n",
    "    return ' '.join(a)\n",
    "\n",
    "\n",
    "\n",
    "n = \"the sky is blue\"\n",
    "rev_word(n)"
   ]
  },
  {
   "cell_type": "code",
   "execution_count": null,
   "id": "80592b72",
   "metadata": {},
   "outputs": [],
   "source": []
  }
 ],
 "metadata": {
  "kernelspec": {
   "display_name": "Python 3",
   "language": "python",
   "name": "python3"
  },
  "language_info": {
   "codemirror_mode": {
    "name": "ipython",
    "version": 3
   },
   "file_extension": ".py",
   "mimetype": "text/x-python",
   "name": "python",
   "nbconvert_exporter": "python",
   "pygments_lexer": "ipython3",
   "version": "3.13.5"
  }
 },
 "nbformat": 4,
 "nbformat_minor": 5
}
