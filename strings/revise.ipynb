{
 "cells": [
  {
   "cell_type": "code",
   "execution_count": 1,
   "id": "d674d75b",
   "metadata": {},
   "outputs": [
    {
     "data": {
      "text/plain": [
       "'(())'"
      ]
     },
     "execution_count": 1,
     "metadata": {},
     "output_type": "execute_result"
    }
   ],
   "source": [
    "def out(s):\n",
    "    a = []\n",
    "    bal = 0\n",
    "    for i in s:\n",
    "        if i == '(':\n",
    "            if bal > 0:\n",
    "                a.append(i)\n",
    "            bal +=1\n",
    "        else:\n",
    "            bal-=1\n",
    "            if bal > 0:\n",
    "                a.append(i)\n",
    "    return ''.join(a)\n",
    "\n",
    "\n",
    "s = \"((()))\"\n",
    "out(s)"
   ]
  },
  {
   "cell_type": "code",
   "execution_count": 2,
   "id": "a439d9dc",
   "metadata": {},
   "outputs": [
    {
     "data": {
      "text/plain": [
       "'5'"
      ]
     },
     "execution_count": 2,
     "metadata": {},
     "output_type": "execute_result"
    }
   ],
   "source": [
    "def lar_odd(s):\n",
    "    for i in range(len(s)-1,-1,-1):\n",
    "        if int(s[i])%2 ==1:\n",
    "            return s[:i+1]\n",
    "    return \" \"\n",
    "num = \"52\"\n",
    "lar_odd(num)"
   ]
  },
  {
   "cell_type": "code",
   "execution_count": null,
   "id": "95746c44",
   "metadata": {},
   "outputs": [
    {
     "data": {
      "text/plain": [
       "'fl'"
      ]
     },
     "execution_count": 6,
     "metadata": {},
     "output_type": "execute_result"
    }
   ],
   "source": [
    "def l_c(stri):\n",
    "    min_length = float('inf')\n",
    "    for c in stri:\n",
    "        if len(c) < min_length:\n",
    "            min_length = len(c)\n",
    "    i = 0\n",
    "    while i < min_length:\n",
    "        for s in stri:\n",
    "            if s[i] != stri[0][i]:\n",
    "                return s[:i]\n",
    "        i+=1\n",
    "    return stri[0][:i]\n",
    "\n",
    "stri = [\"flowers\" , \"flow\" , \"fly\", \"flight\" ]\n",
    "l_c(stri)\n",
    "\n"
   ]
  },
  {
   "cell_type": "code",
   "execution_count": null,
   "id": "ae308393",
   "metadata": {},
   "outputs": [],
   "source": []
  }
 ],
 "metadata": {
  "kernelspec": {
   "display_name": "Python 3",
   "language": "python",
   "name": "python3"
  },
  "language_info": {
   "codemirror_mode": {
    "name": "ipython",
    "version": 3
   },
   "file_extension": ".py",
   "mimetype": "text/x-python",
   "name": "python",
   "nbconvert_exporter": "python",
   "pygments_lexer": "ipython3",
   "version": "3.13.5"
  }
 },
 "nbformat": 4,
 "nbformat_minor": 5
}
