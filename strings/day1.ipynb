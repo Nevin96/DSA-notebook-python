{
 "cells": [
  {
   "cell_type": "code",
   "execution_count": null,
   "id": "cf8ab3d9",
   "metadata": {},
   "outputs": [
    {
     "data": {
      "text/plain": [
       "'()()()'"
      ]
     },
     "execution_count": 5,
     "metadata": {},
     "output_type": "execute_result"
    }
   ],
   "source": [
    "def outr_par(s,n):\n",
    "    a = []\n",
    "    bal = 0\n",
    "    for c in s:\n",
    "        if c == '(':\n",
    "            if bal > 0:\n",
    "                a.append(c)\n",
    "            bal+=1\n",
    "        else:\n",
    "            bal-=1\n",
    "            if bal > 0:\n",
    "                a.append(c)\n",
    "    return ''.join(a)\n",
    "\n",
    "s = \"(()())(())\"\n",
    "n =len(s)\n",
    "outr_par(s,n)"
   ]
  },
  {
   "cell_type": "code",
   "execution_count": 6,
   "id": "b302c13c",
   "metadata": {},
   "outputs": [
    {
     "data": {
      "text/plain": [
       "'()()()'"
      ]
     },
     "execution_count": 6,
     "metadata": {},
     "output_type": "execute_result"
    }
   ],
   "source": [
    "def outr_paranth(s,n):\n",
    "    bal = 0\n",
    "    a = []\n",
    "    for c in s:\n",
    "        if c =='(':\n",
    "            if bal > 0:\n",
    "                a.append(c)\n",
    "            bal+=1\n",
    "        else:\n",
    "            bal -=1\n",
    "            if bal>0:\n",
    "                a.append(c)\n",
    "    return ''.join(a)\n",
    "s = \"(()())(())\"\n",
    "n =len(s)\n",
    "outr_paranth(s,n)"
   ]
  },
  {
   "cell_type": "code",
   "execution_count": 18,
   "id": "18bfabe4",
   "metadata": {},
   "outputs": [
    {
     "data": {
      "text/plain": [
       "'blue is sky the'"
      ]
     },
     "execution_count": 18,
     "metadata": {},
     "output_type": "execute_result"
    }
   ],
   "source": [
    "def pal(s):\n",
    "    a = s.split()\n",
    "    n = len(a)\n",
    "    rev = []\n",
    "    for i in range(n):\n",
    "        last = a[n-1-i]\n",
    "        rev.append(last)\n",
    "    return ' '.join(rev)\n",
    "\n",
    "s = \"the sky is blue\"\n",
    "pal(s)\n"
   ]
  },
  {
   "cell_type": "code",
   "execution_count": 36,
   "id": "99dcfe8c",
   "metadata": {},
   "outputs": [
    {
     "data": {
      "text/plain": [
       "''"
      ]
     },
     "execution_count": 36,
     "metadata": {},
     "output_type": "execute_result"
    }
   ],
   "source": [
    "def max_odd(a):\n",
    "    n= len(a)\n",
    "    for i in range(n-1,-1,-1):\n",
    "        if int(a[i]) %2==1:\n",
    "            return a[:i+1]\n",
    "        return \"\"\n",
    "        \n",
    "num = \"52\"\n",
    "max_odd(num)\n"
   ]
  },
  {
   "cell_type": "code",
   "execution_count": 1,
   "id": "0d7d187d",
   "metadata": {},
   "outputs": [
    {
     "data": {
      "text/plain": [
       "'a'"
      ]
     },
     "execution_count": 1,
     "metadata": {},
     "output_type": "execute_result"
    }
   ],
   "source": [
    "def pre(str):\n",
    "    i = 0\n",
    "    min_length = float('inf')\n",
    "    for wr in str:\n",
    "        if len(wr) < min_length:\n",
    "            min_length = len(wr)\n",
    "    while i<min_length:\n",
    "        for s in str:\n",
    "            if s[i] != str[0][i]:\n",
    "                return s[:i]\n",
    "        i+=1\n",
    "    return stri[0][:i]\n",
    "            \n",
    "        \n",
    "            \n",
    "stri = ['a']\n",
    "# str = [\"flowers\" , \"flow\" , \"fly\", \"flight\" ]\n",
    "pre(stri)"
   ]
  },
  {
   "cell_type": "code",
   "execution_count": null,
   "id": "a9e8dedc",
   "metadata": {},
   "outputs": [
    {
     "data": {
      "text/plain": [
       "False"
      ]
     },
     "execution_count": 52,
     "metadata": {},
     "output_type": "execute_result"
    }
   ],
   "source": [
    "def iso(s,t):\n",
    "    if len(s)!= len(t):\n",
    "        return False\n",
    "    map_s,map_t = {},{}\n",
    "    for c,w in zip(s,t):\n",
    "        if ((c in map_s) and (map_s[c] != w)) or ((w in map_t) and map_t[w] != c):\n",
    "            return False\n",
    "        map_s[c] = w\n",
    "        map_t[w] = c\n",
    "\n",
    "    return True\n",
    "    \n",
    "\n",
    "\n",
    "\n",
    "# s = \"egg\" \n",
    "# t = \"add\"\n",
    "# s = \"apple\" \n",
    "# t = \"bbnbm\"\n",
    "s =\"foo\"\n",
    "t = 'bar'\n",
    "iso(s,t)"
   ]
  },
  {
   "cell_type": "code",
   "execution_count": 1,
   "id": "0aff1fde",
   "metadata": {},
   "outputs": [
    {
     "data": {
      "text/plain": [
       "True"
      ]
     },
     "execution_count": 1,
     "metadata": {},
     "output_type": "execute_result"
    }
   ],
   "source": [
    "def is_rot(s,goal):\n",
    "    if len(s) != len(goal):\n",
    "        return False\n",
    "    if goal in (s+s):\n",
    "        return True\n",
    "    return False\n",
    "\n",
    "s = \"abcde\" \n",
    "goal = \"cdeab\"\n",
    "is_rot(s,goal)"
   ]
  },
  {
   "cell_type": "code",
   "execution_count": 22,
   "id": "82779443",
   "metadata": {},
   "outputs": [
    {
     "data": {
      "text/plain": [
       "False"
      ]
     },
     "execution_count": 22,
     "metadata": {},
     "output_type": "execute_result"
    }
   ],
   "source": [
    "def anagram(s,t):\n",
    "    if len(s)!= len(t):\n",
    "        return False\n",
    "    # return sorted(s) == sorted(t)\n",
    "    f = {}\n",
    "    for c in s:\n",
    "        if c in f:\n",
    "            f[c]+=1\n",
    "        else:\n",
    "            f[c]=1\n",
    "    for w in t:\n",
    "        if w not in f: return False\n",
    "        elif f[w] == 1: del f[w]\n",
    "        else: f[w] -=1\n",
    "    return not f\n",
    "\n",
    "# s=\"anagram\" \n",
    "# t = \"nagaram\"\n",
    "s= \"dog\" \n",
    "t = \"cat\"\n",
    "anagram(s,t)"
   ]
  },
  {
   "cell_type": "code",
   "execution_count": 31,
   "id": "f98e8f21",
   "metadata": {},
   "outputs": [
    {
     "data": {
      "text/plain": [
       "'eetr'"
      ]
     },
     "execution_count": 31,
     "metadata": {},
     "output_type": "execute_result"
    }
   ],
   "source": [
    "from collections import Counter,defaultdict\n",
    "def sr_char(s):\n",
    "    c = Counter(s)\n",
    "    bu = defaultdict(list)\n",
    "\n",
    "    for key,val in c.items():\n",
    "        bu[val].append(key)\n",
    "    res = []\n",
    "    for i in range(len(s),0,-1):\n",
    "        for ci in bu[i]:\n",
    "            res.append(ci*i)\n",
    "    return ''.join(res)\n",
    "\n",
    "\n",
    "s = \"tree\"\n",
    "sr_char(s)"
   ]
  },
  {
   "cell_type": "code",
   "execution_count": null,
   "id": "389551c1",
   "metadata": {},
   "outputs": [],
   "source": []
  }
 ],
 "metadata": {
  "kernelspec": {
   "display_name": "Python 3",
   "language": "python",
   "name": "python3"
  },
  "language_info": {
   "codemirror_mode": {
    "name": "ipython",
    "version": 3
   },
   "file_extension": ".py",
   "mimetype": "text/x-python",
   "name": "python",
   "nbconvert_exporter": "python",
   "pygments_lexer": "ipython3",
   "version": "3.13.5"
  }
 },
 "nbformat": 4,
 "nbformat_minor": 5
}
