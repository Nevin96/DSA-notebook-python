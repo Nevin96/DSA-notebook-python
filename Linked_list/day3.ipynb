{
 "cells": [
  {
   "cell_type": "code",
   "execution_count": 15,
   "id": "393548a6",
   "metadata": {},
   "outputs": [
    {
     "name": "stdout",
     "output_type": "stream",
     "text": [
      "1-->6-->3-->8-->None\n",
      "5-->1-->6-->3-->8-->None\n"
     ]
    }
   ],
   "source": [
    "class Node:\n",
    "    def __init__(self,data):\n",
    "        self.data = data\n",
    "        self.next = None\n",
    "        self.back = None\n",
    "def a_to_dll(a):\n",
    "    head = Node(a[0])\n",
    "    prev = head\n",
    "    for i in a[1:]:\n",
    "        ne = Node(i)\n",
    "        ne.back = prev\n",
    "        prev.next = ne\n",
    "        prev = ne\n",
    "    return head\n",
    "def tr(head):\n",
    "    if not head:\n",
    "        return None\n",
    "    move = head\n",
    "    while move:\n",
    "        print(move.data,end=\"-->\")\n",
    "        move = move.next\n",
    "    print(\"None\")\n",
    "def ins_head(head,val):\n",
    "    new_val= Node(val)\n",
    "    if not head:\n",
    "        return new_val\n",
    "    new_val.next = head\n",
    "    head.back = new_val\n",
    "    return new_val\n",
    "    \n",
    "a = [1,6,3,8]\n",
    "head = a_to_dll(a)\n",
    "tr(head)\n",
    "c = ins_head(head,5)\n",
    "tr(c)"
   ]
  },
  {
   "cell_type": "code",
   "execution_count": 16,
   "id": "a4bbbe32",
   "metadata": {},
   "outputs": [
    {
     "name": "stdout",
     "output_type": "stream",
     "text": [
      "1-->6-->3-->7-->8-->None\n"
     ]
    }
   ],
   "source": [
    "def in_at_tail(head,val):\n",
    "    new_node = Node(val)\n",
    "    if not head:\n",
    "        return new_node\n",
    "    tail = head\n",
    "    while tail.next:\n",
    "        tail = tail.next\n",
    "    prev = tail.back\n",
    "    new_node.next = tail\n",
    "    new_node.back = prev\n",
    "    prev.next = new_node\n",
    "    tail.back = new_node\n",
    "    return head\n",
    "h = in_at_tail(head,7)\n",
    "tr(h)"
   ]
  },
  {
   "cell_type": "code",
   "execution_count": 23,
   "id": "3c6e4a27",
   "metadata": {},
   "outputs": [
    {
     "name": "stdout",
     "output_type": "stream",
     "text": [
      "1->6->3->8->None\n"
     ]
    }
   ],
   "source": [
    "class Node:\n",
    "    def __init__(self,data):\n",
    "        self.data = data\n",
    "        self.next = None\n",
    "        self.back = None\n",
    "def ar_to_dll(a):\n",
    "    head = Node(a[0])\n",
    "    prev = head\n",
    "    for i in a[1:]:\n",
    "        ne = Node(i)\n",
    "        prev.next = ne\n",
    "        ne.back = prev\n",
    "        prev = prev.next\n",
    "    return head\n",
    "def t(head):\n",
    "    if not head:\n",
    "        return None\n",
    "    move = head\n",
    "    while move:\n",
    "        print(move.data,end=\"->\")\n",
    "        move = move.next\n",
    "    print(\"None\")\n",
    "def ins_at_k(head,k,val):\n",
    "    temp = Node(val)\n",
    "    if not head:\n",
    "        return temp\n",
    "    if k==1:\n",
    "        temp.next = head\n",
    "        head.back = temp\n",
    "        return temp\n",
    "    move = head\n",
    "    count = 1\n",
    "    while move.next:\n",
    "        if count == k:\n",
    "            break\n",
    "        count+=1\n",
    "        move = move.next\n",
    "    prev = move.back\n",
    "    temp.back = prev\n",
    "    temp.next = move\n",
    "    move.back = temp\n",
    "    prev.next = temp\n",
    "    return head\n",
    "a = [1,6,3,8]\n",
    "hea = ar_to_dll(a)\n",
    "t(hea)\n",
    "# c = ins_at_k(hea,2,4)\n",
    "# t(c)\n"
   ]
  },
  {
   "cell_type": "code",
   "execution_count": 24,
   "id": "5b34e42e",
   "metadata": {},
   "outputs": [
    {
     "name": "stdout",
     "output_type": "stream",
     "text": [
      "1->5->6->3->8->None\n"
     ]
    }
   ],
   "source": [
    "def ins_at_kval(head,k,val):\n",
    "    temp = Node(val)\n",
    "    if not head:\n",
    "        return temp\n",
    "    if k == head.data:\n",
    "        temp.next = head\n",
    "        head.back = temp\n",
    "        return temp\n",
    "    move = head\n",
    "    while move.next:\n",
    "        if k == move.data:\n",
    "            break\n",
    "        move = move.next\n",
    "    prev = move.back\n",
    "    prev.next = temp\n",
    "    move.back = temp\n",
    "    temp.back = prev\n",
    "    temp.next = move\n",
    "    return head\n",
    "\n",
    "    \n",
    "j = ins_at_kval(hea,6,5)\n",
    "t(j)"
   ]
  },
  {
   "cell_type": "code",
   "execution_count": null,
   "id": "d38a80a7",
   "metadata": {},
   "outputs": [
    {
     "name": "stdout",
     "output_type": "stream",
     "text": [
      "1->5->7->2->None\n",
      "2->7->5->1->None\n"
     ]
    }
   ],
   "source": [
    "class Node:\n",
    "    def __init__(self,data):\n",
    "        self.data = data\n",
    "        self.next = None\n",
    "        self.back = None\n",
    "def ar_to_dll(a):\n",
    "    head = Node(a[0])\n",
    "    prev = head\n",
    "    for i in a[1:]:\n",
    "        ne = Node(i)\n",
    "        prev.next = ne\n",
    "        ne.back = prev\n",
    "        prev = prev.next\n",
    "    return head\n",
    "def t(head):\n",
    "    if not head:\n",
    "        return None\n",
    "    move = head\n",
    "    while move:\n",
    "        print(move.data,end=\"->\")\n",
    "        move = move.next\n",
    "    print(\"None\")\n",
    "def rev_dll(head):\n",
    "    temp = head\n",
    "    stack = []\n",
    "    while temp:\n",
    "        stack.append(temp.data)\n",
    "        temp = temp.next\n",
    "    temp = head\n",
    "    while temp:\n",
    "        temp.data =stack.pop()\n",
    "        temp = temp.next\n",
    "    return head\n",
    "a = [1,5,7,2]\n",
    "hea = ar_to_dll(a)\n",
    "t(hea)\n",
    "g = rev_dll(hea)\n",
    "t(g)"
   ]
  },
  {
   "cell_type": "code",
   "execution_count": 30,
   "id": "c0c7e4ae",
   "metadata": {},
   "outputs": [
    {
     "name": "stdout",
     "output_type": "stream",
     "text": [
      "1->4->2->9->None\n",
      "9->2->4->1->None\n"
     ]
    }
   ],
   "source": [
    "def re(head):\n",
    "    temp = head\n",
    "    stack = []\n",
    "    while temp:\n",
    "        stack.append(temp.data)\n",
    "        temp = temp.next\n",
    "    temp = head\n",
    "    while temp:\n",
    "        temp.data = stack.pop()\n",
    "        temp = temp.next\n",
    "    return head\n",
    "a = [1,4,2,9]\n",
    "h = ar_to_dll(a)\n",
    "t(h)\n",
    "c = re(h)\n",
    "t(c)"
   ]
  },
  {
   "cell_type": "code",
   "execution_count": 31,
   "id": "16398360",
   "metadata": {},
   "outputs": [
    {
     "name": "stdout",
     "output_type": "stream",
     "text": [
      "1->4->2->9->None\n",
      "9->2->4->1->None\n"
     ]
    }
   ],
   "source": [
    "def reverse_dll(head):\n",
    "    current = head\n",
    "    last = None\n",
    "    while current:\n",
    "        last = current.back\n",
    "        current.back = current.next\n",
    "        current.next = last\n",
    "        current = current.back\n",
    "    return last.back\n",
    "a = [1,4,2,9]\n",
    "h = ar_to_dll(a)\n",
    "t(h)\n",
    "e = reverse_dll(h)\n",
    "t(e)"
   ]
  },
  {
   "cell_type": "code",
   "execution_count": 33,
   "id": "ec0def1c",
   "metadata": {},
   "outputs": [
    {
     "name": "stdout",
     "output_type": "stream",
     "text": [
      "1->2->3->4->None\n",
      "4->3->2->1->None\n"
     ]
    }
   ],
   "source": [
    "def reve_dll(head):\n",
    "    current = head\n",
    "    last = None\n",
    "    while current:\n",
    "        last = current.back\n",
    "        current.back = current.next\n",
    "        current.next = last\n",
    "        current = current.back\n",
    "    return last.back\n",
    "a=[1,2,3,4]\n",
    "he = ar_to_dll(a)\n",
    "t(he)\n",
    "c = reve_dll(he)\n",
    "t(c)"
   ]
  },
  {
   "cell_type": "code",
   "execution_count": null,
   "id": "9b41c914",
   "metadata": {},
   "outputs": [],
   "source": []
  }
 ],
 "metadata": {
  "kernelspec": {
   "display_name": "Python 3",
   "language": "python",
   "name": "python3"
  },
  "language_info": {
   "codemirror_mode": {
    "name": "ipython",
    "version": 3
   },
   "file_extension": ".py",
   "mimetype": "text/x-python",
   "name": "python",
   "nbconvert_exporter": "python",
   "pygments_lexer": "ipython3",
   "version": "3.13.5"
  }
 },
 "nbformat": 4,
 "nbformat_minor": 5
}
