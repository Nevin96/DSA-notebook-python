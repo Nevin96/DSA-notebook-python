{
 "cells": [
  {
   "cell_type": "code",
   "execution_count": 15,
   "id": "393548a6",
   "metadata": {},
   "outputs": [
    {
     "name": "stdout",
     "output_type": "stream",
     "text": [
      "1-->6-->3-->8-->None\n",
      "5-->1-->6-->3-->8-->None\n"
     ]
    }
   ],
   "source": [
    "class Node:\n",
    "    def __init__(self,data):\n",
    "        self.data = data\n",
    "        self.next = None\n",
    "        self.back = None\n",
    "def a_to_dll(a):\n",
    "    head = Node(a[0])\n",
    "    prev = head\n",
    "    for i in a[1:]:\n",
    "        ne = Node(i)\n",
    "        ne.back = prev\n",
    "        prev.next = ne\n",
    "        prev = ne\n",
    "    return head\n",
    "def tr(head):\n",
    "    if not head:\n",
    "        return None\n",
    "    move = head\n",
    "    while move:\n",
    "        print(move.data,end=\"-->\")\n",
    "        move = move.next\n",
    "    print(\"None\")\n",
    "def ins_head(head,val):\n",
    "    new_val= Node(val)\n",
    "    if not head:\n",
    "        return new_val\n",
    "    new_val.next = head\n",
    "    head.back = new_val\n",
    "    return new_val\n",
    "    \n",
    "a = [1,6,3,8]\n",
    "head = a_to_dll(a)\n",
    "tr(head)\n",
    "c = ins_head(head,5)\n",
    "tr(c)"
   ]
  },
  {
   "cell_type": "code",
   "execution_count": 16,
   "id": "a4bbbe32",
   "metadata": {},
   "outputs": [
    {
     "name": "stdout",
     "output_type": "stream",
     "text": [
      "1-->6-->3-->7-->8-->None\n"
     ]
    }
   ],
   "source": [
    "def in_at_tail(head,val):\n",
    "    new_node = Node(val)\n",
    "    if not head:\n",
    "        return new_node\n",
    "    tail = head\n",
    "    while tail.next:\n",
    "        tail = tail.next\n",
    "    prev = tail.back\n",
    "    new_node.next = tail\n",
    "    new_node.back = prev\n",
    "    prev.next = new_node\n",
    "    tail.back = new_node\n",
    "    return head\n",
    "h = in_at_tail(head,7)\n",
    "tr(h)"
   ]
  },
  {
   "cell_type": "code",
   "execution_count": null,
   "id": "c1a8037b",
   "metadata": {},
   "outputs": [],
   "source": []
  }
 ],
 "metadata": {
  "kernelspec": {
   "display_name": "Python 3",
   "language": "python",
   "name": "python3"
  },
  "language_info": {
   "codemirror_mode": {
    "name": "ipython",
    "version": 3
   },
   "file_extension": ".py",
   "mimetype": "text/x-python",
   "name": "python",
   "nbconvert_exporter": "python",
   "pygments_lexer": "ipython3",
   "version": "3.13.5"
  }
 },
 "nbformat": 4,
 "nbformat_minor": 5
}
