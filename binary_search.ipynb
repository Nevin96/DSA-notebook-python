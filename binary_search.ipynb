{
 "cells": [
  {
   "cell_type": "code",
   "execution_count": 33,
   "id": "1abc2505",
   "metadata": {},
   "outputs": [
    {
     "name": "stdout",
     "output_type": "stream",
     "text": [
      "2\n"
     ]
    }
   ],
   "source": [
    "def search(lst,n,target):\n",
    "    low = 0\n",
    "    high = n -1\n",
    "    while low < high:\n",
    "        mid = (low+high)//2 \n",
    "        if lst[mid] == target:\n",
    "            return mid\n",
    "        elif target > lst[mid]:\n",
    "            low = mid +1\n",
    "        else:\n",
    "            high = mid-1\n",
    "\n",
    "        \n",
    "    \n",
    "lst =  [-1,0,3,5,9,12]\n",
    "target = 3\n",
    "n = len(lst)\n",
    "print(search(lst,n,target))\n",
    "\n",
    "\n",
    "    \n"
   ]
  },
  {
   "cell_type": "markdown",
   "id": "66432073",
   "metadata": {},
   "source": [
    "Recursive approach"
   ]
  },
  {
   "cell_type": "code",
   "execution_count": null,
   "id": "4dbdf634",
   "metadata": {},
   "outputs": [],
   "source": [
    "def b_s(a,low,high,targ):\n",
    "    if low >= high:\n",
    "        return -1\n",
    "    mid = (low+high) //2\n",
    "    if a[mid] == targ:\n",
    "        return mid\n",
    "    elif targ > a[mid]:\n",
    "        b_s(a,mid+1,high,targ)\n",
    "    else:\n",
    "        b_s(a,low,mid-1,targ)\n",
    "\n",
    "a=[-1,0,3,5,9,12]\n",
    "target = 3\n",
    "low = 0\n",
    "high = len(a) - 1\n",
    "b_s(a,low,high,target)"
   ]
  },
  {
   "cell_type": "markdown",
   "id": "4db9d344",
   "metadata": {},
   "source": [
    "lowerBound"
   ]
  },
  {
   "cell_type": "code",
   "execution_count": null,
   "id": "7cba73b3",
   "metadata": {},
   "outputs": [],
   "source": [
    "def lower_bound(a,x,n):\n",
    "    low = 0\n",
    "    high = len(a) -1 \n",
    "    ans = n\n",
    "    while low<=high:\n",
    "        mid = (low+high)//2\n",
    "        if a[mid] >= x:\n",
    "            ans = mid\n",
    "            high = mid-1\n",
    "        else:\n",
    "            low = mid +1\n",
    "    return ans\n",
    "nums= [1,2,2,3,4]\n",
    "x = 2\n",
    "n = len(nums)\n",
    "lower_bound(nums,x,n)\n",
    "\n"
   ]
  },
  {
   "cell_type": "code",
   "execution_count": null,
   "id": "2f309c05",
   "metadata": {},
   "outputs": [],
   "source": [
    "def lower_bound(lst,n,x):\n",
    "    low = 0\n",
    "    high = n-1\n",
    "    ans = n\n",
    "    while low <=high:\n",
    "        mid = (low+high)//2\n",
    "        if lst[mid] >= x:\n",
    "            ans = mid\n",
    "            high = mid-1\n",
    "        else:\n",
    "            low = mid +1\n",
    "    return ans\n",
    "\n",
    "nums= [1,2,2,3,4]\n",
    "x = 2\n",
    "n = len(nums)\n",
    "lower_bound(nums,n,x)"
   ]
  },
  {
   "cell_type": "code",
   "execution_count": null,
   "id": "7b1ab831",
   "metadata": {},
   "outputs": [],
   "source": [
    "def upper_bound(a,n,x):\n",
    "    low = 0\n",
    "    high = n-1\n",
    "    ans = n\n",
    "    while low<=high:\n",
    "        mid = (low+high)//2\n",
    "        if a[mid] > x:\n",
    "            ans = mid\n",
    "            high = mid-1\n",
    "        else:\n",
    "            low = mid +1\n",
    "    return ans\n",
    "\n",
    "\n",
    "\n",
    "\n",
    "nums = [1,2,2,3,4]\n",
    "n = len(nums)\n",
    "x = 3\n",
    "upper_bound(nums,n,x)"
   ]
  },
  {
   "cell_type": "code",
   "execution_count": null,
   "id": "932901c1",
   "metadata": {},
   "outputs": [],
   "source": [
    "def search_insert(lst,n,target):\n",
    "    low = 0\n",
    "    high = n-1\n",
    "    while low <= high:\n",
    "        mid = (low+high)//2\n",
    "        if lst[mid] == target:\n",
    "            return mid\n",
    "        elif target > lst[mid]:\n",
    "            low = mid +1\n",
    "        else:\n",
    "            high = mid -1\n",
    "\n",
    "    return high+1\n",
    "\n",
    "\n",
    "lst = [1, 3, 5, 6]\n",
    "n = len(lst)\n",
    "target = 3\n",
    "search_insert(lst,n,target)"
   ]
  },
  {
   "cell_type": "code",
   "execution_count": null,
   "id": "0ad717a6",
   "metadata": {},
   "outputs": [],
   "source": [
    "def searchinser(lst,n,x):\n",
    "    low = 0\n",
    "    high = n-1\n",
    "    ans = n\n",
    "    while low<=high:\n",
    "        mid = (low+high)//2\n",
    "        if lst[mid]>=x:\n",
    "            ans = mid\n",
    "            high = mid -1\n",
    "        else:\n",
    "            low = mid+1\n",
    "    return ans\n",
    "\n",
    "\n",
    "lst = [1, 3, 5, 6]\n",
    "n = len(lst)\n",
    "target = 2\n",
    "searchinser(lst,n,target)"
   ]
  },
  {
   "cell_type": "code",
   "execution_count": null,
   "id": "2e79d571",
   "metadata": {},
   "outputs": [],
   "source": [
    "def floor_ceil(a,n,target):\n",
    "    low = 0\n",
    "    high = n-1\n",
    "    while low <= high:\n",
    "        mid = (low + high)//2\n",
    "        if a[mid] == target:\n",
    "            return a[mid],a[mid]\n",
    "        elif a[mid] < target:\n",
    "            low = mid +1\n",
    "        else:\n",
    "            high = mid -1\n",
    "    return a[high],a[low]\n",
    "\n",
    "nums = nums =[3, 4, 4, 7, 8, 10]\n",
    "x= 5\n",
    "n = len(nums)\n",
    "floor_ceil(nums,n,x)"
   ]
  },
  {
   "cell_type": "code",
   "execution_count": null,
   "id": "9deb15d6",
   "metadata": {},
   "outputs": [],
   "source": [
    "def floor_ceiling(lst,n,x):\n",
    "    def floor(lst,n,x):\n",
    "        low = 0\n",
    "        high = n-1\n",
    "        ans = -1\n",
    "        while low <= high:\n",
    "            mid = (low+high)//2\n",
    "            if lst[mid] <= x:\n",
    "                ans = lst[mid]\n",
    "                low = mid +1\n",
    "            else:\n",
    "                high = mid-1\n",
    "        return ans\n",
    "    def ceil(lst,n,x):\n",
    "        low = 0\n",
    "        high = n-1\n",
    "        ans = n\n",
    "        while low<=high:\n",
    "            mid = (low+high)//2\n",
    "            if lst[mid] >= x:\n",
    "                ans = lst[mid]\n",
    "                high = mid-1\n",
    "            else:\n",
    "                low = mid+1\n",
    "        return ans\n",
    "    return floor(lst,n,x),ceil(lst,n,x)\n",
    "\n",
    "nums = nums =[3, 4, 4, 7, 8, 10]\n",
    "x= 5\n",
    "n = len(nums)\n",
    "floor_ceiling(nums,n,x)\n",
    "    "
   ]
  },
  {
   "cell_type": "code",
   "execution_count": 12,
   "id": "02838085",
   "metadata": {},
   "outputs": [
    {
     "data": {
      "text/plain": [
       "[5, 5]"
      ]
     },
     "execution_count": 12,
     "metadata": {},
     "output_type": "execute_result"
    }
   ],
   "source": [
    "def first_last(a,n,target):\n",
    "    first = -1\n",
    "    last = -1\n",
    "    for i in range(n):\n",
    "        if a[i] == target:\n",
    "            if first == -1:\n",
    "                first = i\n",
    "            last = i\n",
    "    return [first,last]\n",
    "\n",
    "nums = [5, 7, 7, 8, 8, 10]\n",
    "n = len(nums)\n",
    "target = 10\n",
    "first_last(nums,n,target)"
   ]
  },
  {
   "cell_type": "code",
   "execution_count": 16,
   "id": "09f7f5fe",
   "metadata": {},
   "outputs": [
    {
     "name": "stdout",
     "output_type": "stream",
     "text": [
      "[1, 2]\n"
     ]
    }
   ],
   "source": [
    "def lower_bound(a,n,x):\n",
    "        low = 0\n",
    "        high = n-1\n",
    "        ans = n\n",
    "        while low<= high:\n",
    "            mid = (low+high)//2\n",
    "            if a[mid] >= x:\n",
    "                  ans = mid\n",
    "                  high = mid -1\n",
    "            else:\n",
    "                  low = mid+1\n",
    "        return ans\n",
    "def upper_bound(a,n,x):\n",
    "      low = 0\n",
    "      high = n-1\n",
    "      ans = n\n",
    "      while low<=high:\n",
    "            mid = (low+high)//2\n",
    "            if a[mid] > x:\n",
    "                  ans = mid\n",
    "                  high = mid-1\n",
    "            else:\n",
    "                  low = mid+1\n",
    "      return ans\n",
    "\n",
    "nums = [5, 7, 7, 8, 8, 10]\n",
    "n = len(nums)\n",
    "target = 7\n",
    "lb = lower_bound(nums,n,target)\n",
    "if lb ==n or nums[lb] != target:\n",
    "      print([-1,-1])\n",
    "else:\n",
    "      up = upper_bound(nums,n,target) -1\n",
    "      print([lb,up])"
   ]
  },
  {
   "cell_type": "code",
   "execution_count": 26,
   "id": "3b6ced5e",
   "metadata": {},
   "outputs": [
    {
     "name": "stdout",
     "output_type": "stream",
     "text": [
      "[-1, -1]\n"
     ]
    }
   ],
   "source": [
    "def first_i(a,n,x):\n",
    "    low = 0\n",
    "    high = n-1\n",
    "    first = -1\n",
    "    while low <= high:\n",
    "        mid = (low+high)//2\n",
    "        if a[mid] == x:\n",
    "            first = mid\n",
    "            high = mid-1\n",
    "        elif a[mid] > x:\n",
    "            high = mid -1\n",
    "        else:\n",
    "            low = mid+1\n",
    "    return first\n",
    "def last_i(a,n,x):\n",
    "    low = 0\n",
    "    high = n-1\n",
    "    last = -1\n",
    "    while low <= high:\n",
    "        mid = (low+high)//2\n",
    "        if a[mid] == x:\n",
    "            last = mid\n",
    "            low = mid+1\n",
    "        elif a[mid] > x:\n",
    "            high = mid-1\n",
    "        else:\n",
    "            low = mid+1\n",
    "    return last\n",
    "\n",
    "\n",
    "nums = [5, 7, 7, 8, 8, 10]\n",
    "n = len(nums)\n",
    "target = 0\n",
    "print([first_i(nums,n,target),last_i(nums,n,target)])"
   ]
  },
  {
   "cell_type": "code",
   "execution_count": 28,
   "id": "9fb3e04c",
   "metadata": {},
   "outputs": [
    {
     "name": "stdout",
     "output_type": "stream",
     "text": [
      "2\n"
     ]
    }
   ],
   "source": [
    "def first_i(a,n,x):\n",
    "    low = 0\n",
    "    high = n-1\n",
    "    first = -1\n",
    "    while(low<=high):\n",
    "        mid = (low+high)//2\n",
    "        if a[mid] == x:\n",
    "            first = mid\n",
    "            high = mid -1\n",
    "        elif a[mid] < x:\n",
    "            low = mid+1\n",
    "        else:\n",
    "            high = mid-1\n",
    "    return first\n",
    "def last_i(a,n,x):\n",
    "    low = 0\n",
    "    high = n-1\n",
    "    last = -1\n",
    "    while(low<=high):\n",
    "        mid = (low+high)//2\n",
    "        if a[mid] == x:\n",
    "            last = mid\n",
    "            low = mid +1\n",
    "        elif a[mid] < x:\n",
    "            low = mid+1\n",
    "        else:\n",
    "            high = mid-1\n",
    "    return last\n",
    "\n",
    "    \n",
    "\n",
    "\n",
    "nums = [5, 7, 7, 8, 8, 10]\n",
    "n = len(nums)\n",
    "target = 8\n",
    "print(last_i(nums,n,target)-first_i(nums,n,target)+1)"
   ]
  },
  {
   "cell_type": "code",
   "execution_count": null,
   "id": "91d2771c",
   "metadata": {},
   "outputs": [
    {
     "data": {
      "text/plain": [
       "[4, 5, 6, 7, 0, 1, 2]"
      ]
     },
     "execution_count": 17,
     "metadata": {},
     "output_type": "execute_result"
    }
   ],
   "source": [
    "# def search_rot(a,n,x):\n",
    "def rot(a,k):\n",
    "    n = len(a)\n",
    "    k %=n\n",
    "    if n < 2:\n",
    "        return a\n",
    "    def reverse(start,end):\n",
    "        while start <= end:\n",
    "            a[end],a[start] = a[start],a[end]\n",
    "            start +=1\n",
    "            end -=1\n",
    "    reverse(0,n-1)\n",
    "    reverse(0,k)\n",
    "    reverse(k+1,n-1)\n",
    "    return a\n",
    "    \n",
    "\n",
    "\n",
    "\n",
    "nums  = [0,1,2,4,5,6,7]\n",
    "k = 3\n",
    "rot(nums,k)"
   ]
  },
  {
   "cell_type": "code",
   "execution_count": 19,
   "id": "efdb12cc",
   "metadata": {},
   "outputs": [
    {
     "data": {
      "text/plain": [
       "4"
      ]
     },
     "execution_count": 19,
     "metadata": {},
     "output_type": "execute_result"
    }
   ],
   "source": [
    "def search_rot(a,n,x):\n",
    "    low = 0\n",
    "    high = n-1\n",
    "    while low<=high:\n",
    "        mid = (low+high)//2\n",
    "        if a[mid] == x:\n",
    "            return mid\n",
    "        if a[low] <= a[mid]:\n",
    "            if a[low] <= x and a[mid] >= x:\n",
    "                high = mid -1\n",
    "            else:\n",
    "                low = mid+1\n",
    "        else:\n",
    "            if a[mid] <= x and a[high] >= x:\n",
    "                low = mid+1\n",
    "            else:\n",
    "                high = mid =1\n",
    "    return -1\n",
    "\n",
    "nums = [4, 5, 6, 7, 0, 1, 2]\n",
    "n = len(nums)\n",
    "k = 0\n",
    "search_rot(nums,n,k)\n"
   ]
  },
  {
   "cell_type": "code",
   "execution_count": null,
   "id": "329a2621",
   "metadata": {},
   "outputs": [
    {
     "data": {
      "text/plain": [
       "1"
      ]
     },
     "execution_count": 2,
     "metadata": {},
     "output_type": "execute_result"
    }
   ],
   "source": [
    "def search_rotated(a,n,x):\n",
    "    low = 0\n",
    "    high = n-1\n",
    "    while low<= high:\n",
    "        mid = (low+high)//2\n",
    "        if a[mid] == x:\n",
    "            return mid\n",
    "        if a[low] <= a[mid]:\n",
    "            if (a[low] <= x and a[mid]>=x):\n",
    "                high = mid-1\n",
    "            else:\n",
    "                low = mid+1\n",
    "        else:\n",
    "            if (a[mid] <= x and a[high]>= x):\n",
    "                low = mid+1\n",
    "            else:\n",
    "                high = mid-1\n",
    "    return -1\n",
    "\n",
    "\n",
    "\n",
    "nums = [4, 5, 6, 7, 0, 1, 2]\n",
    "n = len(nums)\n",
    "k = 5\n",
    "search_rotated(nums,n,k)"
   ]
  },
  {
   "cell_type": "code",
   "execution_count": null,
   "id": "59d381e1",
   "metadata": {},
   "outputs": [
    {
     "data": {
      "text/plain": [
       "True"
      ]
     },
     "execution_count": 11,
     "metadata": {},
     "output_type": "execute_result"
    }
   ],
   "source": [
    "def search_rotated_2(a,n,x):\n",
    "    low = 0\n",
    "    high = n-1\n",
    "    while low <=high:\n",
    "        mid  =(low+high)//2\n",
    "        if a[mid] == x:\n",
    "            return True\n",
    "        if a[low] <= a[mid]:\n",
    "            if a[low] <= x and a[mid] >=x:\n",
    "                high = mid-1\n",
    "            else:\n",
    "                low = mid+1\n",
    "        else:\n",
    "            if a[mid] <= x and a[high] >= x:\n",
    "                low = mid+1\n",
    "            else:\n",
    "                high = mid-1\n",
    "    return False\n",
    "\n",
    "\n",
    "\n",
    "nums = [2,5,6,0,0,2,2]\n",
    "n = len(nums)\n",
    "target = 2\n",
    "search_rotated_2(nums,n,target)\n"
   ]
  },
  {
   "cell_type": "code",
   "execution_count": 26,
   "id": "430f5cfa",
   "metadata": {},
   "outputs": [
    {
     "data": {
      "text/plain": [
       "0"
      ]
     },
     "execution_count": 26,
     "metadata": {},
     "output_type": "execute_result"
    }
   ],
   "source": [
    "def min_sorted(a,n):\n",
    "    low = 0\n",
    "    high = n-1\n",
    "    while(low<high):\n",
    "        mid = (low+high)//2\n",
    "        if a[high] < a[mid]:\n",
    "            low = mid+1\n",
    "        else:\n",
    "            high = mid\n",
    "    return a[low]\n",
    "\n",
    "\n",
    "\n",
    "    \n",
    "\n",
    "nums = [4, 5, 6, 7, 0, 1, 2, 3]\n",
    "n = len(nums)\n",
    "min_sorted(nums,n)"
   ]
  },
  {
   "cell_type": "code",
   "execution_count": 32,
   "id": "05fb66b0",
   "metadata": {},
   "outputs": [
    {
     "data": {
      "text/plain": [
       "1"
      ]
     },
     "execution_count": 32,
     "metadata": {},
     "output_type": "execute_result"
    }
   ],
   "source": [
    "def min_sorted2(a,n):\n",
    "    low = 0\n",
    "    high = n-1\n",
    "    ans = n\n",
    "    while (low<= high):\n",
    "        mid = (low+high)//2\n",
    "        if a[low] <= a[mid]:\n",
    "            ans = min(ans,a[low])\n",
    "            low = mid+1\n",
    "        else:\n",
    "            ans = min(ans,a[mid])\n",
    "            high = mid-1\n",
    "    return ans\n",
    "\n",
    "nums = [2,1]\n",
    "n = len(nums)\n",
    "min_sorted2(nums,n)"
   ]
  },
  {
   "cell_type": "code",
   "execution_count": null,
   "id": "e52fdd58",
   "metadata": {},
   "outputs": [
    {
     "data": {
      "text/plain": [
       "0"
      ]
     },
     "execution_count": 3,
     "metadata": {},
     "output_type": "execute_result"
    }
   ],
   "source": [
    "def min_sort(a,n):\n",
    "    low =0\n",
    "    high = n-1\n",
    "    ans = float('inf')\n",
    "    while low<=high:\n",
    "        mid = (low+high)//2\n",
    "        if a[low]<=a[high]:\n",
    "            ans = min(ans,a[low])\n",
    "            break\n",
    "        if a[low] <= a[mid]:\n",
    "            ans = min(ans,a[low])\n",
    "            low = mid+1\n",
    "        else:\n",
    "            ans = min(ans,a[mid])\n",
    "            high = mid-1\n",
    "    return ans\n",
    "\n",
    "nums = [4, 5, 6,7, 0, 1, 2, 3]\n",
    "\n",
    "n = len(nums)\n",
    "min_sort(nums,n)"
   ]
  },
  {
   "cell_type": "code",
   "execution_count": 12,
   "id": "4625fd86",
   "metadata": {},
   "outputs": [
    {
     "data": {
      "text/plain": [
       "4"
      ]
     },
     "execution_count": 12,
     "metadata": {},
     "output_type": "execute_result"
    }
   ],
   "source": [
    "def no_rotated(a,n):\n",
    "    low = 0\n",
    "    high = n-1\n",
    "    ans = float('inf')\n",
    "    index = -1\n",
    "    while low<=high:\n",
    "        mid = (low+high)//2\n",
    "        if a[low] <= a[high]:\n",
    "            if a[low] <= ans:\n",
    "                index= low\n",
    "                ans = a[low]\n",
    "            break\n",
    "        if a[low] <= a[mid]:\n",
    "            if a[low] <= ans:\n",
    "                index = low\n",
    "                ans = a[low]\n",
    "            low = mid+1\n",
    "        else:\n",
    "            if a[mid] <= ans:\n",
    "                index = mid\n",
    "                ans = a[mid]\n",
    "                high = mid -1\n",
    "    return index\n",
    "\n",
    "nums = [4, 5, 6,7, 0, 1, 2, 3]\n",
    "n = len(nums)\n",
    "no_rotated(nums,n)\n"
   ]
  },
  {
   "cell_type": "code",
   "execution_count": null,
   "id": "1dad8877",
   "metadata": {},
   "outputs": [
    {
     "data": {
      "text/plain": [
       "-1"
      ]
     },
     "execution_count": 14,
     "metadata": {},
     "output_type": "execute_result"
    }
   ],
   "source": [
    "def sin_counter(a,n):\n",
    "    if n==1:\n",
    "        return a[0]\n",
    "    if a[0]!=a[1]:\n",
    "        return a[0]\n",
    "    if a[n-1]!=a[n-2]:\n",
    "        return a[n-1]\n",
    "    low = 1\n",
    "    high = n-2\n",
    "    while low<= high:\n",
    "        mid = (low+high)//2\n",
    "        if a[mid]!=a[mid+1] and a[mid] != a[mid-1]:\n",
    "            return a[mid]\n",
    "        if mid%2==1 and a[mid-1]==a[mid] or mid%2==0 and a[mid]==a[mid+1]:\n",
    "            low = mid+1\n",
    "        else:\n",
    "            high = mid-1\n",
    "    return -1\n",
    "\n",
    "\n",
    "nums = [1, 1, 2, 2, 3, 3, 4, 5, 5, 6, 6]\n",
    "n = len(nums)\n",
    "sin_counter(nums,n)"
   ]
  },
  {
   "cell_type": "code",
   "execution_count": 15,
   "id": "62e5fc3e",
   "metadata": {},
   "outputs": [
    {
     "data": {
      "text/plain": [
       "4"
      ]
     },
     "execution_count": 15,
     "metadata": {},
     "output_type": "execute_result"
    }
   ],
   "source": [
    "def single(a,n):\n",
    "    if n==1:\n",
    "        return a[0]\n",
    "    if a[0]!=a[1]:\n",
    "        return a[0]\n",
    "    if a[n-1] != a[n-2]:\n",
    "        return a[n-1]\n",
    "    low = 1\n",
    "    high = n-2\n",
    "    while low<=high:\n",
    "        mid = (low+high)//2\n",
    "        if a[mid]!=a[mid+1] and a[mid]!=a[mid-1]:\n",
    "            return a[mid]\n",
    "        if mid%2==1 and a[mid-1]==a[mid] or mid%2==0 and a[mid]==a[mid+1]:\n",
    "            low= mid+1\n",
    "        else:\n",
    "            high = mid-1\n",
    "    return -1\n",
    "\n",
    "nums = [1, 1, 2, 2, 3, 3, 4, 5, 5, 6, 6]\n",
    "n = len(nums)\n",
    "single(nums,n)"
   ]
  },
  {
   "cell_type": "code",
   "execution_count": null,
   "id": "ae6bb8ea",
   "metadata": {},
   "outputs": [
    {
     "data": {
      "text/plain": [
       "8"
      ]
     },
     "execution_count": 12,
     "metadata": {},
     "output_type": "execute_result"
    }
   ],
   "source": [
    "def peak(a,n):\n",
    "    for i in range(n):\n",
    "        if (i ==0 or a[i-1] < a[i]) and (i==n-1 or a[i]>a[i+1]):\n",
    "            return a[i]\n",
    "            \n",
    "# a = [1,2,4,5]\n",
    "a = [1,2,4,3,8]\n",
    "n= len(a)\n",
    "peak(a,n)"
   ]
  },
  {
   "cell_type": "code",
   "execution_count": 34,
   "id": "3c47cfd6",
   "metadata": {},
   "outputs": [
    {
     "data": {
      "text/plain": [
       "2"
      ]
     },
     "execution_count": 34,
     "metadata": {},
     "output_type": "execute_result"
    }
   ],
   "source": [
    "def peak(a,n):\n",
    "    if n==1:\n",
    "        return a[0]\n",
    "    if a[0] > a[1]:\n",
    "        return a[0]\n",
    "    if a[n-1] > a[n-2]:\n",
    "        return a[n-1]\n",
    "    low = 1\n",
    "    high = n-2\n",
    "    while low<=high:\n",
    "        mid = (low+high)//2\n",
    "        if a[mid] > a[mid-1] and a[mid] > a[mid+1]:\n",
    "            return a[mid]\n",
    "        elif a[mid]>a[mid-1]:\n",
    "            low = mid+1\n",
    "        elif a[mid] > a[mid+1]:\n",
    "            high = mid-1\n",
    "        else:\n",
    "            low= mid +1\n",
    "\n",
    "# a = [1,2,4,5]\n",
    "# a=[5,4,3,2]\n",
    "# a=[1, 2, 3, 4, 5, 6, 7, 8, 5, 1]\n",
    "a =[2,1]\n",
    "n= len(a)\n",
    "peak(a,n)   \n"
   ]
  },
  {
   "cell_type": "code",
   "execution_count": 36,
   "id": "7af88b64",
   "metadata": {},
   "outputs": [
    {
     "data": {
      "text/plain": [
       "5"
      ]
     },
     "execution_count": 36,
     "metadata": {},
     "output_type": "execute_result"
    }
   ],
   "source": [
    "def root(n):\n",
    "    ans = 1\n",
    "    for i in range(n):\n",
    "        if i*i <=n:\n",
    "            ans = i\n",
    "        else:\n",
    "            break\n",
    "    return ans\n",
    "n= 25\n",
    "root(n)"
   ]
  },
  {
   "cell_type": "code",
   "execution_count": 52,
   "id": "f6432267",
   "metadata": {},
   "outputs": [
    {
     "data": {
      "text/plain": [
       "5"
      ]
     },
     "execution_count": 52,
     "metadata": {},
     "output_type": "execute_result"
    }
   ],
   "source": [
    "def sqroot(n):\n",
    "    low = 0\n",
    "    high= n\n",
    "    ans = -1\n",
    "    while low<=high:\n",
    "        mid = (low+high)//2\n",
    "        if mid*mid <= n:\n",
    "            ans = max(ans,mid)\n",
    "            low = mid+1\n",
    "        if mid*mid>n:\n",
    "            high = mid-1\n",
    "    return ans\n",
    "\n",
    "n= 28\n",
    "sqroot(n)"
   ]
  },
  {
   "cell_type": "code",
   "execution_count": 59,
   "id": "769a03e0",
   "metadata": {},
   "outputs": [
    {
     "data": {
      "text/plain": [
       "3"
      ]
     },
     "execution_count": 59,
     "metadata": {},
     "output_type": "execute_result"
    }
   ],
   "source": [
    "def nth_root(n,m):\n",
    "    low = 0\n",
    "    high = m\n",
    "    while low<=high:\n",
    "        mid = (low + high)//2\n",
    "        if mid**n == m:\n",
    "            return mid\n",
    "        elif mid**n>m:\n",
    "            high = mid-1\n",
    "        else:\n",
    "            low = mid+1\n",
    "    return -1\n",
    "\n",
    "\n",
    "n = 3\n",
    "m = 27\n",
    "nth_root(n,m)"
   ]
  },
  {
   "cell_type": "code",
   "execution_count": 12,
   "id": "c68db360",
   "metadata": {},
   "outputs": [
    {
     "data": {
      "text/plain": [
       "5"
      ]
     },
     "execution_count": 12,
     "metadata": {},
     "output_type": "execute_result"
    }
   ],
   "source": [
    "import math\n",
    "def koko_ban(a,n,x):\n",
    "    def time_taken(a,mid):\n",
    "        total_h =0\n",
    "        for i in a:\n",
    "            total_h += math.ceil(i/mid)\n",
    "        return total_h\n",
    "    low = 1\n",
    "    high = max(a)\n",
    "    ans = float('inf')\n",
    "    while low<=high:\n",
    "        mid = (low+high)//2\n",
    "        total=time_taken(a,mid)\n",
    "        if total <= x:\n",
    "            ans = min(ans,mid)\n",
    "            high = mid-1\n",
    "        else:\n",
    "            low = mid+1\n",
    "    return ans\n",
    "\n",
    "\n",
    "nums = [7, 15, 6, 3]\n",
    "n = len(nums)\n",
    "h = 8\n",
    "koko_ban(nums,n,h)"
   ]
  },
  {
   "cell_type": "code",
   "execution_count": 23,
   "id": "9bc994b8",
   "metadata": {},
   "outputs": [
    {
     "data": {
      "text/plain": [
       "12"
      ]
     },
     "execution_count": 23,
     "metadata": {},
     "output_type": "execute_result"
    }
   ],
   "source": [
    "def m_bouqets(a,n,m,k):\n",
    "    if m*k > n:\n",
    "        return -1\n",
    "    def possible(a,day,m,k):\n",
    "        counter = 0\n",
    "        bouqs = 0\n",
    "        for i in a:\n",
    "            if (i <= day):\n",
    "                counter +=1\n",
    "            else:\n",
    "                bouqs = counter//k\n",
    "                counter = 0\n",
    "        bouqs += counter//k\n",
    "        if bouqs >=m:\n",
    "            return True\n",
    "        else:\n",
    "            return False\n",
    "    low = min(a)\n",
    "    high = max(a)\n",
    "    while low<=high:\n",
    "        mid = (low+high)//2\n",
    "        if (possible(a,mid,m,k) == True):\n",
    "            high = mid-1\n",
    "        else:\n",
    "            low = mid+1\n",
    "    return low\n",
    "\n",
    "\n",
    "nums = [7,7,7,7,13,11,12,7]\n",
    "\n",
    "# nums = [1, 10, 3, 10, 2]\n",
    "n = len(nums)\n",
    "m = 3\n",
    "k = 2\n",
    "m_bouqets(nums,n,m,k)"
   ]
  },
  {
   "cell_type": "code",
   "execution_count": 25,
   "id": "0f54c397",
   "metadata": {},
   "outputs": [
    {
     "data": {
      "text/plain": [
       "8"
      ]
     },
     "execution_count": 25,
     "metadata": {},
     "output_type": "execute_result"
    }
   ],
   "source": [
    "def peak(a,n):\n",
    "    if n==1:\n",
    "        return 0\n",
    "    if a[0] > a[1]:\n",
    "        return 0\n",
    "    if a[n-1] > a[n-2]:\n",
    "        return n-1\n",
    "    low = 1\n",
    "    high = n-2\n",
    "    while low<=high:\n",
    "        mid = (low+high)//2\n",
    "        if a[mid] > a[mid-1] and a[mid] > a[mid+1]:\n",
    "            return a[mid]\n",
    "        if a[mid] > a[mid-1]:\n",
    "            low = mid+1\n",
    "        else:\n",
    "            high = mid -1\n",
    "\n",
    "\n",
    "arr = [1, 2, 3, 4, 5, 6, 7, 8, 5, 1]\n",
    "n = len(arr)\n",
    "peak(arr,n)"
   ]
  },
  {
   "cell_type": "code",
   "execution_count": 30,
   "id": "58565190",
   "metadata": {},
   "outputs": [
    {
     "data": {
      "text/plain": [
       "2"
      ]
     },
     "execution_count": 30,
     "metadata": {},
     "output_type": "execute_result"
    }
   ],
   "source": [
    "import math\n",
    "def small_div(a,k):\n",
    "    def divisor(a,mid,k):\n",
    "        total = 0\n",
    "        for i in a:\n",
    "            total += math.ceil(i/mid)\n",
    "        return total\n",
    "    low = 1\n",
    "    high = max(a)\n",
    "    while low<=high:\n",
    "        mid = (low+high)//2\n",
    "        total_s = divisor(a,mid,k)\n",
    "        if total_s <= k:\n",
    "            high = mid-1\n",
    "        else:\n",
    "            low = mid+1\n",
    "    return low\n",
    "\n",
    "\n",
    "nums = [8,4,2,3]\n",
    "limit = 10\n",
    "small_div(nums,limit)\n"
   ]
  },
  {
   "cell_type": "code",
   "execution_count": 14,
   "id": "7e267d68",
   "metadata": {},
   "outputs": [
    {
     "data": {
      "text/plain": [
       "15"
      ]
     },
     "execution_count": 14,
     "metadata": {},
     "output_type": "execute_result"
    }
   ],
   "source": [
    "def weight_day(a,m):\n",
    "    def tot(a,mid):\n",
    "        total = 0\n",
    "        day = 1\n",
    "        for i in a:\n",
    "            if total + i <= mid:\n",
    "                total += i\n",
    "            else:\n",
    "                day +=1\n",
    "                total = i\n",
    "        return day\n",
    "    low = max(a)\n",
    "    high = sum(a)\n",
    "    ans = float('inf')\n",
    "    while low<=high:\n",
    "        mid = (low+high)//2\n",
    "        c = tot(a,mid)\n",
    "        if c <= m:\n",
    "            ans = min(ans,mid)\n",
    "            high = mid-1\n",
    "        else:\n",
    "            low = mid+1\n",
    "    return ans\n",
    "\n",
    "weights = [1, 2, 3, 4, 5, 6, 7, 8, 9, 10]\n",
    "days = 5\n",
    "# weights = [3, 2, 2, 4, 1, 4]\n",
    "# days = 3\n",
    "weight_day(weights,days)"
   ]
  },
  {
   "cell_type": "code",
   "execution_count": 1,
   "id": "923dd0b7",
   "metadata": {},
   "outputs": [
    {
     "data": {
      "text/plain": [
       "6"
      ]
     },
     "execution_count": 1,
     "metadata": {},
     "output_type": "execute_result"
    }
   ],
   "source": [
    "def kth_missing(a,k):\n",
    "    n = len(a)\n",
    "    for i in range(n):\n",
    "        if a[i] <= k:\n",
    "            k+=1\n",
    "        else:\n",
    "            break\n",
    "    return k\n",
    "\n",
    "# arr = [3, 5, 7, 10]\n",
    "# k = 6\n",
    "arr = [1,2,3,4]\n",
    "k = 2\n",
    "kth_missing(arr,k)"
   ]
  },
  {
   "cell_type": "code",
   "execution_count": 11,
   "id": "f6e8f53f",
   "metadata": {},
   "outputs": [
    {
     "data": {
      "text/plain": [
       "9"
      ]
     },
     "execution_count": 11,
     "metadata": {},
     "output_type": "execute_result"
    }
   ],
   "source": [
    "def kth_mssing_bs(a,k):\n",
    "    n = len(a)\n",
    "    low = 0\n",
    "    high = n-1\n",
    "    while low<=high:\n",
    "        mid = (low+high)//2\n",
    "        missing = a[mid] -(mid+1)\n",
    "        if missing < k:\n",
    "            low = mid+1\n",
    "        else:\n",
    "            high = mid-1\n",
    "    return low+ k\n",
    "arr = [3, 5, 7, 10]\n",
    "k = 6\n",
    "kth_mssing_bs(arr,k)"
   ]
  },
  {
   "cell_type": "code",
   "execution_count": 12,
   "id": "3ad50ded",
   "metadata": {},
   "outputs": [
    {
     "data": {
      "text/plain": [
       "3"
      ]
     },
     "execution_count": 12,
     "metadata": {},
     "output_type": "execute_result"
    }
   ],
   "source": [
    "def max_min_cows(a,n,stalls):\n",
    "    a = sorted(a)\n",
    "    def place_cows(a,stalls,dist):\n",
    "        last = a[0]\n",
    "        count = 1\n",
    "        for i in range(n):\n",
    "            if a[i] - last >= dist:\n",
    "                count+=1\n",
    "                last = a[i]\n",
    "            else:\n",
    "                continue\n",
    "            if count >= stalls:\n",
    "                return True\n",
    "        return False\n",
    "    max_dist = max(a) \n",
    "    for dist in range(1,max_dist):\n",
    "        if place_cows(a,stalls,dist):\n",
    "            res = dist\n",
    "    return res\n",
    "\n",
    "\n",
    "k = 4\n",
    "nums = [0, 3, 4, 7, 10, 9]\n",
    "n = len(nums)\n",
    "max_min_cows(nums,n,k)"
   ]
  },
  {
   "cell_type": "code",
   "execution_count": null,
   "id": "1a7c3bd6",
   "metadata": {},
   "outputs": [
    {
     "data": {
      "text/plain": [
       "5"
      ]
     },
     "execution_count": 19,
     "metadata": {},
     "output_type": "execute_result"
    }
   ],
   "source": [
    "def min_max_cows(a,n,k):\n",
    "    a = sorted(a)\n",
    "    def place_cows(a,mid,k):\n",
    "        count =1\n",
    "        last = a[0]\n",
    "        for i in range(len(a)):\n",
    "            if a[i] - last >= mid:\n",
    "                count +=1\n",
    "                last = a[i]\n",
    "            else:\n",
    "                continue\n",
    "            if count >= k:\n",
    "                return True\n",
    "        return False\n",
    "\n",
    "    low = 1\n",
    "    high = max(a) - min(a)\n",
    "    while low <= high:\n",
    "        mid = (low+high)//2\n",
    "        if place_cows(a,mid,k):\n",
    "            low = mid +1\n",
    "        else:\n",
    "            high = mid-1\n",
    "    return high\n",
    "\n",
    "# k = 4\n",
    "# nums = [0, 3, 4, 7, 10, 9]\n",
    "k = 2\n",
    "nums = [4, 2, 1, 3, 6]\n",
    "n = len(nums)\n",
    "min_max_cows(nums,n,k)"
   ]
  },
  {
   "cell_type": "code",
   "execution_count": 25,
   "id": "703e54f9",
   "metadata": {},
   "outputs": [
    {
     "data": {
      "text/plain": [
       "5"
      ]
     },
     "execution_count": 25,
     "metadata": {},
     "output_type": "execute_result"
    }
   ],
   "source": [
    "def maxmin_cow(a,k):\n",
    "    a = sorted(a)\n",
    "    def place(a,mid,k):\n",
    "        count = 1\n",
    "        last = a[0]\n",
    "        for i in range(len(a)):\n",
    "            if a[i]-last >= mid:\n",
    "                count+=1\n",
    "                last = a[i]\n",
    "                if count >= k:\n",
    "                    return True\n",
    "            else:\n",
    "                continue\n",
    "        return False\n",
    "    low = 1\n",
    "    high = max(a) - min(a)\n",
    "    while low<= high:\n",
    "        mid = (low+high)//2\n",
    "        if place(a,mid,k):\n",
    "            low = mid+1\n",
    "        else:\n",
    "            high = mid-1\n",
    "    return high\n",
    "nums = [4, 2, 1, 3, 6]\n",
    "n = len(nums)\n",
    "maxmin_cow(nums,k)"
   ]
  },
  {
   "cell_type": "code",
   "execution_count": 5,
   "id": "28f38f05",
   "metadata": {},
   "outputs": [
    {
     "data": {
      "text/plain": [
       "113"
      ]
     },
     "execution_count": 5,
     "metadata": {},
     "output_type": "execute_result"
    }
   ],
   "source": [
    "def book_alocation(a,m):\n",
    "    n = len(a)\n",
    "    if m > n:\n",
    "        return -1\n",
    "    def pages(a,low,n):\n",
    "        last = 0\n",
    "        count =1\n",
    "        for i in range(n):\n",
    "            if a[i] + last <= low:\n",
    "                last += a[i]\n",
    "            else:\n",
    "                count += 1\n",
    "                last = a[i]\n",
    "        return count\n",
    "    low = max(a)\n",
    "    high = sum(a)\n",
    "    for page in range(low,high):\n",
    "        c = pages(a,page,n)\n",
    "        if c == m:\n",
    "            return page\n",
    "\n",
    "\n",
    "nums = [12, 34, 67, 90]\n",
    "m =2\n",
    "book_alocation(nums,m)\n"
   ]
  },
  {
   "cell_type": "code",
   "execution_count": 12,
   "id": "32ede0af",
   "metadata": {},
   "outputs": [
    {
     "data": {
      "text/plain": [
       "71"
      ]
     },
     "execution_count": 12,
     "metadata": {},
     "output_type": "execute_result"
    }
   ],
   "source": [
    "def book_al(a,n,k):\n",
    "    n = len(a)\n",
    "    if k>n:\n",
    "        return -1\n",
    "    def pages(a,n,page):\n",
    "        count =1\n",
    "        last = 0\n",
    "        for i in range(n):\n",
    "            if a[i] + last <= page:\n",
    "                last += a[i]\n",
    "            else:\n",
    "                count+=1\n",
    "                last = a[i]\n",
    "        return count\n",
    "    low = max(a)\n",
    "    high = sum(a)\n",
    "    while low<=high:\n",
    "        mid =(low+high)//2\n",
    "        c = pages(a,n,mid)\n",
    "        if c<= m:\n",
    "            high= mid-1\n",
    "        else:\n",
    "            low = mid+1\n",
    "    return low\n",
    "        \n",
    "# nums = [12, 34, 67, 90]\n",
    "# m =2\n",
    "nums = [25, 46, 28, 49, 24]\n",
    "m=4\n",
    "n =len(nums)\n",
    "book_al(nums,n,m)"
   ]
  },
  {
   "cell_type": "code",
   "execution_count": 8,
   "id": "70a8b46b",
   "metadata": {},
   "outputs": [
    {
     "name": "stdout",
     "output_type": "stream",
     "text": [
      "203\n"
     ]
    }
   ],
   "source": [
    "print(sum(nums))"
   ]
  },
  {
   "cell_type": "code",
   "execution_count": 8,
   "id": "1e7c0f8e",
   "metadata": {},
   "outputs": [
    {
     "data": {
      "text/plain": [
       "5"
      ]
     },
     "execution_count": 8,
     "metadata": {},
     "output_type": "execute_result"
    }
   ],
   "source": [
    "def split_array(a,k):\n",
    "    n = len(a)\n",
    "    def arrays(a,k,i):\n",
    "        last =0\n",
    "        count =1\n",
    "        for j in range(len(a)):\n",
    "            if a[j]+last <= i:\n",
    "                last += a[j]\n",
    "            else:\n",
    "                count+=1\n",
    "                last = a[j]\n",
    "        if count == k:\n",
    "            return True\n",
    "        return False\n",
    "    low = max(a)\n",
    "    high = sum(a)\n",
    "    for i in range(low,high):\n",
    "        if arrays(a,k,i):\n",
    "            return i\n",
    "        \n",
    "\n",
    "# a = [1, 2, 3, 4, 5]\n",
    "# k = 3\n",
    "a = [3,5,1]\n",
    "k = 3\n",
    "split_array(a,k)"
   ]
  },
  {
   "cell_type": "code",
   "execution_count": 13,
   "id": "9d067118",
   "metadata": {},
   "outputs": [
    {
     "data": {
      "text/plain": [
       "6"
      ]
     },
     "execution_count": 13,
     "metadata": {},
     "output_type": "execute_result"
    }
   ],
   "source": [
    "def split_arr(a,k):\n",
    "    def arra(a,k,mid):\n",
    "        last = 0\n",
    "        count =1\n",
    "        for i in range(len(a)):\n",
    "            if a[i] + last <= mid:\n",
    "                last += a[i]\n",
    "            else:\n",
    "                count+=1\n",
    "                last = a[i]\n",
    "        if count <= k:\n",
    "            return True\n",
    "        return False\n",
    "    low = max(a)\n",
    "    high = sum(a)\n",
    "    while low<= high:\n",
    "        mid= (low+high)//2\n",
    "        if arra(a,k,mid):\n",
    "            high = mid-1\n",
    "        else:\n",
    "            low = mid+1\n",
    "    return low\n",
    "a = [1,2,3,4,5]\n",
    "k = 3\n",
    "split_arr(a,k)"
   ]
  },
  {
   "cell_type": "code",
   "execution_count": 6,
   "id": "3422f905",
   "metadata": {},
   "outputs": [
    {
     "data": {
      "text/plain": [
       "3"
      ]
     },
     "execution_count": 6,
     "metadata": {},
     "output_type": "execute_result"
    }
   ],
   "source": [
    "def agg_cows(a,k):\n",
    "    a= sorted(a)\n",
    "    def place_cows(a,mid,k):\n",
    "        last = a[0]\n",
    "        count = 1\n",
    "        for i in range(len(a)):\n",
    "            if a[i] - last >=mid:\n",
    "                count +=1\n",
    "                last = a[i]\n",
    "                if count >= k:\n",
    "                    return True\n",
    "            else:\n",
    "                continue\n",
    "        return False\n",
    "    low = 1\n",
    "    high = max(a) - min(a)\n",
    "    while low<=high:\n",
    "        mid=(low+high)//2\n",
    "        if place_cows(a,mid,k):\n",
    "            low = mid+1\n",
    "        else:\n",
    "            high= mid-1\n",
    "    return high\n",
    "            \n",
    "\n",
    "\n",
    "k = 4\n",
    "nums = [0, 3, 4, 7, 10, 9]\n",
    "n = len(nums)\n",
    "agg_cows(nums,k)"
   ]
  },
  {
   "cell_type": "code",
   "execution_count": 11,
   "id": "b8751df0",
   "metadata": {},
   "outputs": [
    {
     "data": {
      "text/plain": [
       "50"
      ]
     },
     "execution_count": 11,
     "metadata": {},
     "output_type": "execute_result"
    }
   ],
   "source": [
    "def painter(a,k,b):\n",
    "    mod = 10000003\n",
    "    def arra(a,mid):\n",
    "        last = 0\n",
    "        count = 1\n",
    "        for i in range(len(a)):\n",
    "            if a[i] + last <= mid:\n",
    "                last +=a[i]\n",
    "            else:\n",
    "                count +=1\n",
    "                last = a[i]\n",
    "        return count\n",
    "    low = max(a)\n",
    "    high = sum(a)\n",
    "    while low<=high:\n",
    "        mid=(low+high)//2\n",
    "        c = arra(a,mid)\n",
    "        if c > k:\n",
    "            low = mid+1\n",
    "        else:\n",
    "            high = mid-1\n",
    "    return (low*b)% mod\n",
    "        \n",
    "\n",
    "\n",
    "C = [1, 10]\n",
    "k =2\n",
    "b = 5\n",
    "painter(C,k,b)"
   ]
  },
  {
   "cell_type": "code",
   "execution_count": 2,
   "id": "e5c12d3e",
   "metadata": {},
   "outputs": [
    {
     "name": "stdout",
     "output_type": "stream",
     "text": [
      "3.000000\n"
     ]
    }
   ],
   "source": [
    "def minimiseMaxDistanceBruteForce(stations, k):\n",
    "    # stations: List of gas station locations (sorted)\n",
    "    # k: Number of new stations to add\n",
    "\n",
    "    n = len(stations)\n",
    "    # 'how_many' tracks how many extra stations are placed in each segment between stations\n",
    "    how_many = [0] * (n - 1)\n",
    "\n",
    "    for placement in range(k):\n",
    "        max_gap = -1\n",
    "        max_index = -1\n",
    "        # Find the section with the current largest gap\n",
    "        for i in range(n - 1):\n",
    "            # Each segment is split into (how_many[i] + 1) sections\n",
    "            gap = (stations[i+1] - stations[i]) / (how_many[i] + 1)\n",
    "            if gap > max_gap:\n",
    "                max_gap = gap\n",
    "                max_index = i\n",
    "        # Place a new station by further splitting this largest gap\n",
    "        how_many[max_index] += 1\n",
    "\n",
    "    # After all placements, find the largest resulting gap\n",
    "    answer = -1\n",
    "    for i in range(n - 1):\n",
    "        gap = (stations[i+1] - stations[i]) / (how_many[i] + 1)\n",
    "        answer = max(answer, gap)\n",
    "\n",
    "    return answer\n",
    "\n",
    "# Example usage:\n",
    "stations = [1, 13, 17, 23]\n",
    "k = 5\n",
    "print(f\"{minimiseMaxDistanceBruteForce(stations, k):.6f}\")\n"
   ]
  },
  {
   "cell_type": "code",
   "execution_count": 14,
   "id": "c1be6635",
   "metadata": {},
   "outputs": [
    {
     "data": {
      "text/plain": [
       "3.5"
      ]
     },
     "execution_count": 14,
     "metadata": {},
     "output_type": "execute_result"
    }
   ],
   "source": [
    "def median(a1,a2):\n",
    "    \n",
    "    def merge(a1,a2):\n",
    "        n1 = len(a1)\n",
    "        n2 = len(a2)\n",
    "        a = []\n",
    "        i =0\n",
    "        j =0\n",
    "        while i < n1 and j<n2:\n",
    "            if a1[i] < a2[j]:\n",
    "                a.append(a1[i])\n",
    "                i+=1\n",
    "            else:\n",
    "                a.append(a2[j])\n",
    "                j+=1\n",
    "        while i < n1:\n",
    "            a.append(a1[i])\n",
    "            i+=1\n",
    "        while j < n2:\n",
    "            a.append(a2[j])\n",
    "        return a\n",
    "    a = merge(a1,a2)\n",
    "    mid = len(a)//2\n",
    "    if len(a)%2==0:\n",
    "        media = (a[mid]+a[mid-1])/2\n",
    "    else:\n",
    "        media = a[mid]\n",
    "    return media\n",
    "\n",
    "\n",
    "\n",
    "\n",
    "\n",
    "\n",
    "arr1 = [2, 4, 6]\n",
    "arr2 = [1, 3, 5]\n",
    "# arr1 = [2, 3, 4]\n",
    "# arr2 = [1, 3]\n",
    "# arr1 = [2, 4, 6]\n",
    "# arr2 = [1, 3]\n",
    "median(arr1,arr2)"
   ]
  },
  {
   "cell_type": "code",
   "execution_count": 29,
   "id": "1bb35ed4",
   "metadata": {},
   "outputs": [
    {
     "data": {
      "text/plain": [
       "3.5"
      ]
     },
     "execution_count": 29,
     "metadata": {},
     "output_type": "execute_result"
    }
   ],
   "source": [
    "def median1(a1,a2):\n",
    "    n1 = len(a1)\n",
    "    n2 = len(a2)\n",
    "    if n1 > n2:\n",
    "        return median(a2,a1)\n",
    "    low = 0\n",
    "    high = n1\n",
    "    left = (n1+n2+1)//2\n",
    "    n = n1+n2\n",
    "    while low<=high:\n",
    "        mid1 = (low+high)//2\n",
    "        mid2 = left  - mid1\n",
    "        l1 = float('-inf')\n",
    "        l2 = float('-inf')\n",
    "        r1 = float('inf')\n",
    "        r2 = float('inf')\n",
    "        if mid1 < n1:\n",
    "            r1 = a1[mid1]\n",
    "        if mid2 < n2:\n",
    "            r2 = a2[mid2]\n",
    "        if mid1 - 1 >=0:\n",
    "            l1 = a1[mid1-1]\n",
    "        if mid2 - 1>=0:\n",
    "            l2 = a2[mid2-1]\n",
    "        if (l1 <= r2) and (l2 <= r1):\n",
    "            if n%2 == 1:\n",
    "                return max(l1,l2)\n",
    "            return (max(l1,l2) + min(r1,r2))/2\n",
    "        elif l1 > r2:\n",
    "            high = mid1-1\n",
    "        else:\n",
    "            low = mid1+1\n",
    "\n",
    "        \n",
    "            \n",
    "\n",
    "arr1 = [2, 4, 6]\n",
    "arr2 = [1, 3, 5]\n",
    "median1(arr1,arr2)\n",
    "\n",
    "    "
   ]
  },
  {
   "cell_type": "code",
   "execution_count": 15,
   "id": "adfb2163",
   "metadata": {},
   "outputs": [
    {
     "data": {
      "text/plain": [
       "1.0"
      ]
     },
     "execution_count": 15,
     "metadata": {},
     "output_type": "execute_result"
    }
   ],
   "source": [
    "def med_bs(a1,a2):\n",
    "    n1 = len(a1)\n",
    "    n2 = len(a2)\n",
    "    if n2 < n1:\n",
    "        return med_bs(a2,a1)\n",
    "    n = n1+n2\n",
    "    low = 0\n",
    "    high = n1\n",
    "    left = (n1 + n2 +1)//2\n",
    "    while low<= high:\n",
    "        mid1 = (low+high)//2\n",
    "        mid2 = left - mid1\n",
    "        l1 = float('-inf')\n",
    "        l2 = float('-inf')\n",
    "        r1 = float('inf')\n",
    "        r2 = float('inf')\n",
    "        if mid1 < n1:\n",
    "            r1 = a1[mid1]\n",
    "        if mid2 < n2:\n",
    "            r2 = a2[mid2]\n",
    "        if mid1 - 1 >=0:\n",
    "            l1 = a1[mid1-1]\n",
    "        if mid2 -1 >=0:\n",
    "            l2 = a2[mid2-1]\n",
    "        if (l1 <= r2) and (l2 <= r1):\n",
    "            if n%2==1:\n",
    "                return max(l1,l2)\n",
    "            return (max(l1,l2) + min(r1,r2))/2\n",
    "        elif l1 > r2:\n",
    "            high = mid1-1\n",
    "        else:\n",
    "            low = mid1+1\n",
    "\n",
    "# arr1 = [2, 4, 6]\n",
    "# arr2 = [1, 3]\n",
    "arr1 = [1]\n",
    "arr2 = [1]\n",
    "med_bs(arr1,arr2)"
   ]
  },
  {
   "cell_type": "code",
   "execution_count": 25,
   "id": "61e6dd51",
   "metadata": {},
   "outputs": [
    {
     "data": {
      "text/plain": [
       "6"
      ]
     },
     "execution_count": 25,
     "metadata": {},
     "output_type": "execute_result"
    }
   ],
   "source": [
    "def kth_el(a,b,k):\n",
    "    def merge(a,b):\n",
    "            n1 = len(a)\n",
    "            n2 = len(b)\n",
    "            i = 0\n",
    "            j = 0\n",
    "            c = []\n",
    "            while i<n1 and j<n2:\n",
    "                if a[i]<b[j]:\n",
    "                    c.append(a[i])\n",
    "                    i+=1\n",
    "                else:\n",
    "                    c.append(b[j])\n",
    "                    j+=1\n",
    "            while i < n1:\n",
    "                c.append(a[i])\n",
    "                i+=1\n",
    "            while j<n2:\n",
    "                c.append(b[j])\n",
    "                j+=1\n",
    "            return c\n",
    "    ar = merge(a,b)\n",
    "    return ar[k-1]\n",
    "\n",
    "\n",
    "a = [2, 3, 6, 7, 9]\n",
    "b = [1, 4, 8, 10]\n",
    "k = 5\n",
    "# a = [100, 112, 256, 349, 770]\n",
    "# b = [72, 86, 113, 119, 265, 445, 892]\n",
    "# k = 7\n",
    "kth_el(a,b,k)"
   ]
  },
  {
   "cell_type": "code",
   "execution_count": 34,
   "id": "2af36a9c",
   "metadata": {},
   "outputs": [
    {
     "data": {
      "text/plain": [
       "6"
      ]
     },
     "execution_count": 34,
     "metadata": {},
     "output_type": "execute_result"
    }
   ],
   "source": [
    "\n",
    "def kth_el_bs(a,b,k):\n",
    "    n1 = len(a)\n",
    "    n2 = len(b)\n",
    "    if n2<n1:\n",
    "        return kth_el_bs(b,a,k)\n",
    "    low = max(0,k-n2)\n",
    "    high = min(k,n1)\n",
    "    while low<=high:\n",
    "        mid1 = (low+high)//2\n",
    "        mid2 = k-mid1\n",
    "        l1 = float('-inf')\n",
    "        l2 = float('-inf')\n",
    "        r1 = float('inf')\n",
    "        r2 = float('inf')\n",
    "        if mid1 < n1:\n",
    "            r1 = a[mid1]\n",
    "        if mid2 < n2:\n",
    "            r2 = b[mid2]\n",
    "        if mid1-1>=0:\n",
    "            l1 = a[mid1-1]\n",
    "        if mid2-1>=0:\n",
    "            l2= b[mid2-1]\n",
    "        if (l1 <= r2) and (l2<=r1):\n",
    "            return max(l1,l2)\n",
    "        elif l1 > r2:\n",
    "            high = mid1-1\n",
    "        else:\n",
    "            low = mid1+1\n",
    "            \n",
    "\n",
    "a = [2, 3, 6, 7, 9]\n",
    "b = [1, 4, 8, 10]\n",
    "k = 5\n",
    "# # a = [100, 112, 256, 349, 770]\n",
    "# # b = [72, 86, 113, 119, 265, 445, 892]\n",
    "# # k = 7\n",
    "# a = [2, 3, 6]\n",
    "# b = [7, 9]\n",
    "# k = 4\n",
    "kth_el_bs(a,b,k)\n",
    "\n"
   ]
  },
  {
   "cell_type": "code",
   "execution_count": null,
   "id": "513b6dd7",
   "metadata": {},
   "outputs": [
    {
     "data": {
      "text/plain": [
       "6"
      ]
     },
     "execution_count": 41,
     "metadata": {},
     "output_type": "execute_result"
    }
   ],
   "source": [
    "def kth_bs(a,b,k):\n",
    "    n1 = len(a)\n",
    "    n2 = len(b)\n",
    "    if n2<n1:\n",
    "        return kth_bs(b,a,k)\n",
    "    low = max(0,k-n2)\n",
    "    high = min(k,n1)\n",
    "    while low<=high:\n",
    "        mid1 = (low+high)//2\n",
    "        mid2 = k-mid1\n",
    "        l1 = float('-inf')\n",
    "        l2 = float('-inf')\n",
    "        r1 = float('inf')\n",
    "        r2 = float('inf')\n",
    "        if mid1 < n1:\n",
    "            r1 = a[mid1]\n",
    "        if mid2 < n2:\n",
    "            r2 = b[mid2]\n",
    "        if mid1-1 >=0:\n",
    "            l1 = a[mid1-1]\n",
    "        if mid2-1>= 0:\n",
    "            l2 = b[mid2-1]\n",
    "\n",
    "        if (l1 <= r2) and (l2<=r1):\n",
    "            return max(l1,l2)\n",
    "        elif l1 > r2:\n",
    "            high = mid1-1\n",
    "        elif l2 > r1:\n",
    "            low = mid1+1\n",
    "\n",
    "a = [2, 3, 6, 7, 9]\n",
    "b = [1, 4, 8, 10]\n",
    "k = 5\n",
    "kth_bs(a,b,k)"
   ]
  },
  {
   "cell_type": "code",
   "execution_count": null,
   "id": "350c9c22",
   "metadata": {},
   "outputs": [],
   "source": []
  }
 ],
 "metadata": {
  "kernelspec": {
   "display_name": "Python 3",
   "language": "python",
   "name": "python3"
  },
  "language_info": {
   "codemirror_mode": {
    "name": "ipython",
    "version": 3
   },
   "file_extension": ".py",
   "mimetype": "text/x-python",
   "name": "python",
   "nbconvert_exporter": "python",
   "pygments_lexer": "ipython3",
   "version": "3.13.5"
  }
 },
 "nbformat": 4,
 "nbformat_minor": 5
}
