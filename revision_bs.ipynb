{
 "cells": [
  {
   "cell_type": "code",
   "execution_count": 38,
   "id": "f6acd598",
   "metadata": {},
   "outputs": [
    {
     "data": {
      "text/plain": [
       "(7, 8)"
      ]
     },
     "execution_count": 38,
     "metadata": {},
     "output_type": "execute_result"
    }
   ],
   "source": [
    "def floor_ceil(a,n,x):\n",
    "    low= 0\n",
    "    high = n - 1\n",
    "    flr = 0\n",
    "    ceil = 0\n",
    "    while low<=high:\n",
    "        mid = (low+high)//2\n",
    "        if a[mid] >= x:\n",
    "            ceil = a[mid]\n",
    "            high = mid-1\n",
    "        else:\n",
    "            flr = a[mid]\n",
    "            low = mid + 1\n",
    "    return flr,ceil\n",
    "nums =[3, 4, 4, 7, 8, 10]\n",
    "x= 8\n",
    "n = len(nums)\n",
    "floor_ceil(nums,n,x)"
   ]
  },
  {
   "cell_type": "code",
   "execution_count": 24,
   "id": "11c56533",
   "metadata": {},
   "outputs": [
    {
     "data": {
      "text/plain": [
       "[3, 4]"
      ]
     },
     "execution_count": 24,
     "metadata": {},
     "output_type": "execute_result"
    }
   ],
   "source": [
    "def lower_b(a,n,x):\n",
    "    def first(a,n,x):\n",
    "        low = 0\n",
    "        high = n-1\n",
    "        fi = -1\n",
    "        while low<=high:\n",
    "            mid =(low+high)//2\n",
    "            if a[mid] >= x:\n",
    "                fi = mid\n",
    "                high = mid-1\n",
    "            else:\n",
    "                low = mid+1\n",
    "        return fi\n",
    "    def last(a,n,x):\n",
    "        low = 0\n",
    "        high = n-1\n",
    "        ans = -1\n",
    "        while low<=high:\n",
    "            mid =(low+high)//2\n",
    "            if a[mid] == x:\n",
    "                ans = max(ans,mid)\n",
    "                high = mid-1\n",
    "            elif a[mid] > x:\n",
    "                high = mid-1\n",
    "            else:\n",
    "                low = mid+1\n",
    "        return ans\n",
    "    return [first(a,n,x),last(a,n,x)]\n",
    "\n",
    "\n",
    "a= [5, 7, 7, 8, 8, 10]\n",
    "target = 8\n",
    "n = len(a)\n",
    "lower_b(a,n,target)\n"
   ]
  },
  {
   "cell_type": "code",
   "execution_count": 35,
   "id": "3217dc62",
   "metadata": {},
   "outputs": [
    {
     "name": "stdout",
     "output_type": "stream",
     "text": [
      "6\n"
     ]
    }
   ],
   "source": [
    "def first_i(a,n,x):\n",
    "    low = 0\n",
    "    high = n-1\n",
    "    first = 0\n",
    "    while low<=high:\n",
    "        mid = (low+high)//2\n",
    "        if a[mid] == x:\n",
    "            first = mid\n",
    "            high = mid-1\n",
    "        elif a[mid] > x:\n",
    "            high = mid-1\n",
    "        else:\n",
    "            low = mid +1\n",
    "    return first\n",
    "def last_i(a,n,x):\n",
    "    low = 0\n",
    "    high = n-1\n",
    "    last = 0\n",
    "    while low<=high:\n",
    "        mid = (low+high)//2\n",
    "        if a[mid] == x:\n",
    "            last = mid\n",
    "            low = mid+1\n",
    "        elif a[mid] > x:\n",
    "            high = mid-1\n",
    "        else:\n",
    "            low = mid +1\n",
    "    return last\n",
    "arr = [5, 5, 5, 5, 5, 5]\n",
    "target = 5\n",
    "n = len(arr)\n",
    "print(last_i(arr,n,target) - first_i(arr,n,target) + 1)\n"
   ]
  },
  {
   "cell_type": "code",
   "execution_count": null,
   "id": "84d4820a",
   "metadata": {},
   "outputs": [
    {
     "data": {
      "text/plain": [
       "4"
      ]
     },
     "execution_count": 1,
     "metadata": {},
     "output_type": "execute_result"
    }
   ],
   "source": [
    "def searc_in_ro(a,n,x):\n",
    "    low = 0\n",
    "    high = n-1\n",
    "    while low<=high:\n",
    "        mid = (low+high)//2\n",
    "        if a[mid] == x:\n",
    "            return mid\n",
    "        if a[low] <= a[mid]:\n",
    "            if (a[low] <= x) and (a[mid] > x):\n",
    "                high = mid -1\n",
    "            else:\n",
    "                low = mid +1\n",
    "        else:\n",
    "            if (a[mid] < x) and (a[high] > x):\n",
    "                low = mid+1\n",
    "            else:\n",
    "                high = mid-1\n",
    "    return -1\n",
    "nums = [4, 5, 6, 7, 0, 1, 2]\n",
    "k = 0\n",
    "searc_in_ro(nums,len(nums),k)"
   ]
  },
  {
   "cell_type": "code",
   "execution_count": null,
   "id": "0eeeb337",
   "metadata": {},
   "outputs": [
    {
     "data": {
      "text/plain": [
       "True"
      ]
     },
     "execution_count": 2,
     "metadata": {},
     "output_type": "execute_result"
    }
   ],
   "source": [
    "def searc_in_ro(a,n,x):\n",
    "    low = 0\n",
    "    high = n-1\n",
    "    while low<=high:\n",
    "        mid = (low+high)//2\n",
    "        if a[mid] == x:\n",
    "            return True\n",
    "        if a[low] <= a[mid]:\n",
    "            if (a[low] <= x) and (a[mid] > x):\n",
    "                high = mid -1\n",
    "            else:\n",
    "                low = mid +1\n",
    "        else:\n",
    "            if (a[mid] < x) and (a[high] > x):\n",
    "                low = mid+1\n",
    "            else:\n",
    "                high = mid-1\n",
    "    return False\n",
    "nums = [2,5,6,0,0,2,2]\n",
    "n = len(nums)\n",
    "target = 2\n",
    "searc_in_ro(nums,n,target)"
   ]
  },
  {
   "cell_type": "code",
   "execution_count": 6,
   "id": "898d6d4e",
   "metadata": {},
   "outputs": [
    {
     "data": {
      "text/plain": [
       "4"
      ]
     },
     "execution_count": 6,
     "metadata": {},
     "output_type": "execute_result"
    }
   ],
   "source": [
    "def min_sort(a,n):\n",
    "    low = 0\n",
    "    high= n-1\n",
    "    ans = n\n",
    "    while low<=high:\n",
    "        mid = (low+high)//2\n",
    "        if a[high]<a[mid]:\n",
    "            low = mid+1\n",
    "        else:\n",
    "            high = mid-1\n",
    "    return low\n",
    "nums = [4, 5, 6, 7, 0, 1, 2, 3]\n",
    "min_sort(nums,len(nums))\n"
   ]
  },
  {
   "cell_type": "code",
   "execution_count": 8,
   "id": "d5f3f511",
   "metadata": {},
   "outputs": [
    {
     "data": {
      "text/plain": [
       "3"
      ]
     },
     "execution_count": 8,
     "metadata": {},
     "output_type": "execute_result"
    }
   ],
   "source": [
    "def no_of_rot(a,n):\n",
    "    low = 0\n",
    "    high = n-1\n",
    "    ans = float('inf')\n",
    "    index = -1\n",
    "    while (low<=high):\n",
    "        mid = (low+high)//2\n",
    "        if a[low] <= a[high]:\n",
    "            if a[low] < ans:\n",
    "                index = low\n",
    "                ans = a[low]\n",
    "                break\n",
    "        if a[low] <= a[mid]:\n",
    "            if a[low] <= ans:\n",
    "                ans = a[low]\n",
    "                index = low\n",
    "            low = mid+1\n",
    "        else:\n",
    "            if a[mid] <= ans:\n",
    "                ans = min(ans,a[mid])\n",
    "                index = mid\n",
    "                high = mid-1\n",
    "    return index\n",
    "nums = [3, 4, 5, 1, 2]\n",
    "n = len(nums)\n",
    "no_of_rot(nums,n)"
   ]
  },
  {
   "cell_type": "code",
   "execution_count": 2,
   "id": "264535c6",
   "metadata": {},
   "outputs": [
    {
     "data": {
      "text/plain": [
       "4"
      ]
     },
     "execution_count": 2,
     "metadata": {},
     "output_type": "execute_result"
    }
   ],
   "source": [
    "def sin_e(a,n):\n",
    "    if a[0]!=a[1]:\n",
    "        return a[0]\n",
    "    if a[n-1]!=a[n-2]:\n",
    "        return a[n-1]\n",
    "    low = 1\n",
    "    high = n-2\n",
    "    while low<=high:\n",
    "        mid = (low+high)//2\n",
    "        if (a[mid] != a[mid-1]) and (a[mid] != a[mid+1]):\n",
    "            return a[mid]\n",
    "        if mid%2==1 and a[mid] == a[mid-1] or mid%2==0 and a[mid]==a[mid+1]:\n",
    "            low = mid+1\n",
    "        else:\n",
    "            high = mid-1\n",
    "    return -1\n",
    "\n",
    "nums = [1, 1, 2, 2, 3, 3, 4, 5, 5, 6, 6]\n",
    "n = len(nums)\n",
    "sin_e(nums,n)"
   ]
  },
  {
   "cell_type": "code",
   "execution_count": 4,
   "id": "9fb0157b",
   "metadata": {},
   "outputs": [
    {
     "data": {
      "text/plain": [
       "5"
      ]
     },
     "execution_count": 4,
     "metadata": {},
     "output_type": "execute_result"
    }
   ],
   "source": [
    "def peak(a,n):\n",
    "    if a[0]> a[1]:\n",
    "        return a[0]\n",
    "    if a[n-1] > a[n-2]:\n",
    "        return a[n-1]\n",
    "    low = 1\n",
    "    high = n-2\n",
    "    while low<=high:\n",
    "        mid = (low+high)//2\n",
    "        if a[mid] > a[mid-1] and (a[mid] > a[mid+1]):\n",
    "            return a[mid]\n",
    "        elif a[mid] > a[mid-1]:\n",
    "            low = mid+1\n",
    "        elif a[mid] > a[mid+1]:\n",
    "            high = mid-1\n",
    "        else:\n",
    "            low = mid+1\n",
    "\n",
    "a =[-2, -1, 3, 4, 5]\n",
    "n= len(a)\n",
    "peak(a,n) "
   ]
  },
  {
   "cell_type": "code",
   "execution_count": 10,
   "id": "ead69fa9",
   "metadata": {},
   "outputs": [
    {
     "data": {
      "text/plain": [
       "7"
      ]
     },
     "execution_count": 10,
     "metadata": {},
     "output_type": "execute_result"
    }
   ],
   "source": [
    "def sq(n):\n",
    "    low = 0\n",
    "    high = n\n",
    "    ans = -1\n",
    "    while low<=high:\n",
    "        mid = (low+high)//2\n",
    "        if mid*mid <= n:\n",
    "            ans = max(ans,mid)\n",
    "            low = mid+1\n",
    "        elif mid*mid> n:\n",
    "            high = mid-1\n",
    "    return ans\n",
    "\n",
    "n = 50\n",
    "sq(n)"
   ]
  },
  {
   "cell_type": "code",
   "execution_count": 17,
   "id": "75c4709f",
   "metadata": {},
   "outputs": [
    {
     "data": {
      "text/plain": [
       "3"
      ]
     },
     "execution_count": 17,
     "metadata": {},
     "output_type": "execute_result"
    }
   ],
   "source": [
    "def nth(n,m):\n",
    "    low = 1\n",
    "    high = m\n",
    "    ans = -1\n",
    "    while low<=high:\n",
    "        mid = (low+high)//2\n",
    "        if mid**n == m:\n",
    "            ans = mid\n",
    "            return ans\n",
    "        elif mid**n > m:\n",
    "            high = mid-1\n",
    "        else:\n",
    "            low = mid+1\n",
    "    return ans\n",
    "\n",
    "nth(4,81)"
   ]
  },
  {
   "cell_type": "code",
   "execution_count": 2,
   "id": "26a5fe49",
   "metadata": {},
   "outputs": [
    {
     "data": {
      "text/plain": [
       "25"
      ]
     },
     "execution_count": 2,
     "metadata": {},
     "output_type": "execute_result"
    }
   ],
   "source": [
    "from math import *\n",
    "def koko(a,h):\n",
    "    n = len(a)\n",
    "    def eat(a,mid):\n",
    "        total_h = 0\n",
    "        for i in a:\n",
    "            total_h += ceil(i/mid)\n",
    "        return total_h\n",
    "    low = 1\n",
    "    high = max(a)\n",
    "    while low<=high:\n",
    "        mid = (low+high)//2\n",
    "        t = eat(a,mid)\n",
    "        if t <= h:\n",
    "            high = mid-1\n",
    "        else:\n",
    "            low = mid+1\n",
    "    return low\n",
    "# nums = [7, 15, 6, 3]\n",
    "# h = 8\n",
    "nums = [25, 12, 8, 14, 19]\n",
    "h = 5\n",
    "koko(nums,h)\n",
    "\n"
   ]
  },
  {
   "cell_type": "code",
   "execution_count": 4,
   "id": "d3bde5dc",
   "metadata": {},
   "outputs": [
    {
     "data": {
      "text/plain": [
       "12"
      ]
     },
     "execution_count": 4,
     "metadata": {},
     "output_type": "execute_result"
    }
   ],
   "source": [
    "def m_bou(nums,m,k):\n",
    "    if m*k > len(nums):\n",
    "        return -1\n",
    "    def possible(nums,day,m,k):\n",
    "        count = 0\n",
    "        bouqs = 0\n",
    "        for i in nums:\n",
    "            if i <= day:\n",
    "                count +=1\n",
    "            else:\n",
    "                bouqs += count//k   \n",
    "                count = 0\n",
    "        bouqs += count//k\n",
    "        if bouqs >= m:\n",
    "            return True\n",
    "        else:\n",
    "            return False\n",
    "    low = min(nums)\n",
    "    high = max(nums)\n",
    "    while low<=high:\n",
    "        mid = (low+high)//2\n",
    "        if possible(nums,mid,m,k):\n",
    "            high = mid-1\n",
    "        else:\n",
    "            low = mid+1\n",
    "    return low\n",
    "\n",
    "nums = [7, 7, 7, 7, 13, 11, 12, 7]\n",
    "m = 2\n",
    "k = 3\n",
    "m_bou(nums,m,k)\n"
   ]
  },
  {
   "cell_type": "code",
   "execution_count": 5,
   "id": "c393cfa9",
   "metadata": {},
   "outputs": [
    {
     "data": {
      "text/plain": [
       "2"
      ]
     },
     "execution_count": 5,
     "metadata": {},
     "output_type": "execute_result"
    }
   ],
   "source": [
    "def small_div(a,k):\n",
    "    def pos(a,mid,k):\n",
    "        total= 0\n",
    "        for i in a:\n",
    "            total += ceil(i/mid)\n",
    "        if total <= k:\n",
    "            return True\n",
    "        else:\n",
    "            return False\n",
    "    low = 1\n",
    "    high = max(a)\n",
    "    while low<=high:\n",
    "        mid = (low+high)//2\n",
    "        if pos(a,mid,k):\n",
    "            high = mid-1\n",
    "        else:\n",
    "            low=mid+1\n",
    "    return low\n",
    "nums = [8,4,2,3]\n",
    "limit = 10\n",
    "small_div(nums,limit)"
   ]
  },
  {
   "cell_type": "code",
   "execution_count": 5,
   "id": "298e822e",
   "metadata": {},
   "outputs": [
    {
     "data": {
      "text/plain": [
       "15"
      ]
     },
     "execution_count": 5,
     "metadata": {},
     "output_type": "execute_result"
    }
   ],
   "source": [
    "def ship(a,k):\n",
    "    def capacity(a,i,k):\n",
    "        last = 0\n",
    "        count = 1\n",
    "        for j in range(len(a)):\n",
    "            if a[j] + last > i:\n",
    "                count +=1\n",
    "                last = a[j]\n",
    "            else:\n",
    "                last += a[j]\n",
    "        if count <= k:\n",
    "            return True\n",
    "        return False\n",
    "    low = max(a)\n",
    "    high = sum(a)\n",
    "    while low<=high:\n",
    "        mid = (low+high)//2\n",
    "        if capacity(a,mid,k):\n",
    "            high = mid-1\n",
    "        else:\n",
    "            low = mid+1\n",
    "    return low\n",
    "    \n",
    "\n",
    "\n",
    "weights = [1, 2, 3, 4, 5, 6, 7, 8, 9, 10]\n",
    "days = 5\n",
    "ship(weights,days)\n",
    "\n"
   ]
  },
  {
   "cell_type": "code",
   "execution_count": 17,
   "id": "74709acd",
   "metadata": {},
   "outputs": [
    {
     "data": {
      "text/plain": [
       "6"
      ]
     },
     "execution_count": 17,
     "metadata": {},
     "output_type": "execute_result"
    }
   ],
   "source": [
    "def kth(a,k):\n",
    "    # low = 1\n",
    "    # high = max(a)\n",
    "    for i in range(len(a)):\n",
    "        if a[i] <= k:\n",
    "            k+=1\n",
    "        else:\n",
    "            break\n",
    "    return k\n",
    "\n",
    "    \n",
    "\n",
    "arr = [1,2,3,4]\n",
    "k = 2\n",
    "kth(arr,k)"
   ]
  },
  {
   "cell_type": "code",
   "execution_count": null,
   "id": "4ad54335",
   "metadata": {},
   "outputs": [],
   "source": [
    "def kth_el(a,k):\n",
    "    n = len(a)\n",
    "    low = 1\n",
    "    high = n-1\n",
    "    while low<=high:\n",
    "        mid = (low+high)//2\n",
    "        i"
   ]
  }
 ],
 "metadata": {
  "kernelspec": {
   "display_name": "Python 3",
   "language": "python",
   "name": "python3"
  },
  "language_info": {
   "codemirror_mode": {
    "name": "ipython",
    "version": 3
   },
   "file_extension": ".py",
   "mimetype": "text/x-python",
   "name": "python",
   "nbconvert_exporter": "python",
   "pygments_lexer": "ipython3",
   "version": "3.13.5"
  }
 },
 "nbformat": 4,
 "nbformat_minor": 5
}
