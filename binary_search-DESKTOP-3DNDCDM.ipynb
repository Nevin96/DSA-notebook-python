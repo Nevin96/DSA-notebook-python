{
 "cells": [
  {
   "cell_type": "code",
   "execution_count": null,
   "id": "1abc2505",
   "metadata": {},
   "outputs": [],
   "source": [
    "def search(lst,n,target):\n",
    "    low = 0\n",
    "    high = n -1\n",
    "    while low < high:\n",
    "        mid = (low+high)//2 \n",
    "        if lst[mid] == target:\n",
    "            return mid\n",
    "        elif target > lst[mid]:\n",
    "            low = mid +1\n",
    "        else:\n",
    "            high = mid-1\n",
    "\n",
    "        \n",
    "    \n",
    "lst =  [-1,0,3,5,9,12]\n",
    "target = 3\n",
    "n = len(lst)\n",
    "print(search(lst,n,target))\n",
    "\n",
    "\n",
    "    \n"
   ]
  },
  {
   "cell_type": "markdown",
   "id": "66432073",
   "metadata": {},
   "source": [
    "Recursive approach"
   ]
  },
  {
   "cell_type": "code",
   "execution_count": null,
   "id": "4dbdf634",
   "metadata": {},
   "outputs": [],
   "source": [
    "def b_s(a,low,high,targ):\n",
    "    if low >= high:\n",
    "        return -1\n",
    "    mid = (low+high) //2\n",
    "    if a[mid] == targ:\n",
    "        return mid\n",
    "    elif targ > a[mid]:\n",
    "        b_s(a,mid+1,high,targ)\n",
    "    else:\n",
    "        b_s(a,low,mid-1,targ)\n",
    "\n",
    "a=[-1,0,3,5,9,12]\n",
    "target = 3\n",
    "low = 0\n",
    "high = len(a) - 1\n",
    "b_s(a,low,high,target)"
   ]
  },
  {
   "cell_type": "markdown",
   "id": "4db9d344",
   "metadata": {},
   "source": [
    "lowerBound"
   ]
  },
  {
   "cell_type": "code",
   "execution_count": null,
   "id": "7cba73b3",
   "metadata": {},
   "outputs": [],
   "source": [
    "def lower_bound(a,x,n):\n",
    "    low = 0\n",
    "    high = len(a) -1 \n",
    "    ans = n\n",
    "    while low<=high:\n",
    "        mid = (low+high)//2\n",
    "        if a[mid] >= x:\n",
    "            ans = mid\n",
    "            high = mid-1\n",
    "        else:\n",
    "            low = mid +1\n",
    "    return ans\n",
    "nums= [1,2,2,3,4]\n",
    "x = 2\n",
    "n = len(nums)\n",
    "lower_bound(nums,x,n)\n",
    "\n"
   ]
  },
  {
   "cell_type": "code",
   "execution_count": null,
   "id": "2f309c05",
   "metadata": {},
   "outputs": [],
   "source": [
    "def lower_bound(lst,n,x):\n",
    "    low = 0\n",
    "    high = n-1\n",
    "    ans = n\n",
    "    while low <=high:\n",
    "        mid = (low+high)//2\n",
    "        if lst[mid] >= x:\n",
    "            ans = mid\n",
    "            high = mid-1\n",
    "        else:\n",
    "            low = mid +1\n",
    "    return ans\n",
    "\n",
    "nums= [1,2,2,3,4]\n",
    "x = 2\n",
    "n = len(nums)\n",
    "lower_bound(nums,n,x)"
   ]
  },
  {
   "cell_type": "code",
   "execution_count": null,
   "id": "7b1ab831",
   "metadata": {},
   "outputs": [],
   "source": [
    "def upper_bound(a,n,x):\n",
    "    low = 0\n",
    "    high = n-1\n",
    "    ans = n\n",
    "    while low<=high:\n",
    "        mid = (low+high)//2\n",
    "        if a[mid] > x:\n",
    "            ans = mid\n",
    "            high = mid-1\n",
    "        else:\n",
    "            low = mid +1\n",
    "    return ans\n",
    "\n",
    "\n",
    "\n",
    "\n",
    "nums = [1,2,2,3,4]\n",
    "n = len(nums)\n",
    "x = 3\n",
    "upper_bound(nums,n,x)"
   ]
  },
  {
   "cell_type": "code",
   "execution_count": null,
   "id": "932901c1",
   "metadata": {},
   "outputs": [],
   "source": [
    "def search_insert(lst,n,target):\n",
    "    low = 0\n",
    "    high = n-1\n",
    "    while low <= high:\n",
    "        mid = (low+high)//2\n",
    "        if lst[mid] == target:\n",
    "            return mid\n",
    "        elif target > lst[mid]:\n",
    "            low = mid +1\n",
    "        else:\n",
    "            high = mid -1\n",
    "\n",
    "    return high+1\n",
    "\n",
    "\n",
    "lst = [1, 3, 5, 6]\n",
    "n = len(lst)\n",
    "target = 3\n",
    "search_insert(lst,n,target)"
   ]
  },
  {
   "cell_type": "code",
   "execution_count": null,
   "id": "0ad717a6",
   "metadata": {},
   "outputs": [],
   "source": [
    "def searchinser(lst,n,x):\n",
    "    low = 0\n",
    "    high = n-1\n",
    "    ans = n\n",
    "    while low<=high:\n",
    "        mid = (low+high)//2\n",
    "        if lst[mid]>=x:\n",
    "            ans = mid\n",
    "            high = mid -1\n",
    "        else:\n",
    "            low = mid+1\n",
    "    return ans\n",
    "\n",
    "\n",
    "lst = [1, 3, 5, 6]\n",
    "n = len(lst)\n",
    "target = 2\n",
    "searchinser(lst,n,target)"
   ]
  },
  {
   "cell_type": "code",
   "execution_count": null,
   "id": "2e79d571",
   "metadata": {},
   "outputs": [],
   "source": [
    "def floor_ceil(a,n,target):\n",
    "    low = 0\n",
    "    high = n-1\n",
    "    while low <= high:\n",
    "        mid = (low + high)//2\n",
    "        if a[mid] == target:\n",
    "            return a[mid],a[mid]\n",
    "        elif a[mid] < target:\n",
    "            low = mid +1\n",
    "        else:\n",
    "            high = mid -1\n",
    "    return a[high],a[low]\n",
    "\n",
    "nums = nums =[3, 4, 4, 7, 8, 10]\n",
    "x= 5\n",
    "n = len(nums)\n",
    "floor_ceil(nums,n,x)"
   ]
  },
  {
   "cell_type": "code",
   "execution_count": null,
   "id": "9deb15d6",
   "metadata": {},
   "outputs": [],
   "source": [
    "def floor_ceiling(lst,n,x):\n",
    "    def floor(lst,n,x):\n",
    "        low = 0\n",
    "        high = n-1\n",
    "        ans = -1\n",
    "        while low <= high:\n",
    "            mid = (low+high)//2\n",
    "            if lst[mid] <= x:\n",
    "                ans = lst[mid]\n",
    "                low = mid +1\n",
    "            else:\n",
    "                high = mid-1\n",
    "        return ans\n",
    "    def ceil(lst,n,x):\n",
    "        low = 0\n",
    "        high = n-1\n",
    "        ans = n\n",
    "        while low<=high:\n",
    "            mid = (low+high)//2\n",
    "            if lst[mid] >= x:\n",
    "                ans = lst[mid]\n",
    "                high = mid-1\n",
    "            else:\n",
    "                low = mid+1\n",
    "        return ans\n",
    "    return floor(lst,n,x),ceil(lst,n,x)\n",
    "\n",
    "nums = nums =[3, 4, 4, 7, 8, 10]\n",
    "x= 5\n",
    "n = len(nums)\n",
    "floor_ceiling(nums,n,x)\n",
    "    "
   ]
  },
  {
   "cell_type": "code",
   "execution_count": 12,
   "id": "02838085",
   "metadata": {},
   "outputs": [
    {
     "data": {
      "text/plain": [
       "[5, 5]"
      ]
     },
     "execution_count": 12,
     "metadata": {},
     "output_type": "execute_result"
    }
   ],
   "source": [
    "def first_last(a,n,target):\n",
    "    first = -1\n",
    "    last = -1\n",
    "    for i in range(n):\n",
    "        if a[i] == target:\n",
    "            if first == -1:\n",
    "                first = i\n",
    "            last = i\n",
    "    return [first,last]\n",
    "\n",
    "nums = [5, 7, 7, 8, 8, 10]\n",
    "n = len(nums)\n",
    "target = 10\n",
    "first_last(nums,n,target)"
   ]
  },
  {
   "cell_type": "code",
   "execution_count": 16,
   "id": "09f7f5fe",
   "metadata": {},
   "outputs": [
    {
     "name": "stdout",
     "output_type": "stream",
     "text": [
      "[1, 2]\n"
     ]
    }
   ],
   "source": [
    "def lower_bound(a,n,x):\n",
    "        low = 0\n",
    "        high = n-1\n",
    "        ans = n\n",
    "        while low<= high:\n",
    "            mid = (low+high)//2\n",
    "            if a[mid] >= x:\n",
    "                  ans = mid\n",
    "                  high = mid -1\n",
    "            else:\n",
    "                  low = mid+1\n",
    "        return ans\n",
    "def upper_bound(a,n,x):\n",
    "      low = 0\n",
    "      high = n-1\n",
    "      ans = n\n",
    "      while low<=high:\n",
    "            mid = (low+high)//2\n",
    "            if a[mid] > x:\n",
    "                  ans = mid\n",
    "                  high = mid-1\n",
    "            else:\n",
    "                  low = mid+1\n",
    "      return ans\n",
    "\n",
    "nums = [5, 7, 7, 8, 8, 10]\n",
    "n = len(nums)\n",
    "target = 7\n",
    "lb = lower_bound(nums,n,target)\n",
    "if lb ==n or nums[lb] != target:\n",
    "      print([-1,-1])\n",
    "else:\n",
    "      up = upper_bound(nums,n,target) -1\n",
    "      print([lb,up])"
   ]
  },
  {
   "cell_type": "code",
   "execution_count": 26,
   "id": "3b6ced5e",
   "metadata": {},
   "outputs": [
    {
     "name": "stdout",
     "output_type": "stream",
     "text": [
      "[-1, -1]\n"
     ]
    }
   ],
   "source": [
    "def first_i(a,n,x):\n",
    "    low = 0\n",
    "    high = n-1\n",
    "    first = -1\n",
    "    while low <= high:\n",
    "        mid = (low+high)//2\n",
    "        if a[mid] == x:\n",
    "            first = mid\n",
    "            high = mid-1\n",
    "        elif a[mid] > x:\n",
    "            high = mid -1\n",
    "        else:\n",
    "            low = mid+1\n",
    "    return first\n",
    "def last_i(a,n,x):\n",
    "    low = 0\n",
    "    high = n-1\n",
    "    last = -1\n",
    "    while low <= high:\n",
    "        mid = (low+high)//2\n",
    "        if a[mid] == x:\n",
    "            last = mid\n",
    "            low = mid+1\n",
    "        elif a[mid] > x:\n",
    "            high = mid-1\n",
    "        else:\n",
    "            low = mid+1\n",
    "    return last\n",
    "\n",
    "\n",
    "nums = [5, 7, 7, 8, 8, 10]\n",
    "n = len(nums)\n",
    "target = 0\n",
    "print([first_i(nums,n,target),last_i(nums,n,target)])"
   ]
  },
  {
   "cell_type": "code",
   "execution_count": 28,
   "id": "9fb3e04c",
   "metadata": {},
   "outputs": [
    {
     "name": "stdout",
     "output_type": "stream",
     "text": [
      "2\n"
     ]
    }
   ],
   "source": [
    "def first_i(a,n,x):\n",
    "    low = 0\n",
    "    high = n-1\n",
    "    first = -1\n",
    "    while(low<=high):\n",
    "        mid = (low+high)//2\n",
    "        if a[mid] == x:\n",
    "            first = mid\n",
    "            high = mid -1\n",
    "        elif a[mid] < x:\n",
    "            low = mid+1\n",
    "        else:\n",
    "            high = mid-1\n",
    "    return first\n",
    "def last_i(a,n,x):\n",
    "    low = 0\n",
    "    high = n-1\n",
    "    last = -1\n",
    "    while(low<=high):\n",
    "        mid = (low+high)//2\n",
    "        if a[mid] == x:\n",
    "            last = mid\n",
    "            low = mid +1\n",
    "        elif a[mid] < x:\n",
    "            low = mid+1\n",
    "        else:\n",
    "            high = mid-1\n",
    "    return last\n",
    "\n",
    "    \n",
    "\n",
    "\n",
    "nums = [5, 7, 7, 8, 8, 10]\n",
    "n = len(nums)\n",
    "target = 8\n",
    "print(last_i(nums,n,target)-first_i(nums,n,target)+1)"
   ]
  },
  {
   "cell_type": "code",
   "execution_count": null,
   "id": "91d2771c",
   "metadata": {},
   "outputs": [
    {
     "data": {
      "text/plain": [
       "[4, 5, 6, 7, 0, 1, 2]"
      ]
     },
     "execution_count": 17,
     "metadata": {},
     "output_type": "execute_result"
    }
   ],
   "source": [
    "# def search_rot(a,n,x):\n",
    "def rot(a,k):\n",
    "    n = len(a)\n",
    "    k %=n\n",
    "    if n < 2:\n",
    "        return a\n",
    "    def reverse(start,end):\n",
    "        while start <= end:\n",
    "            a[end],a[start] = a[start],a[end]\n",
    "            start +=1\n",
    "            end -=1\n",
    "    reverse(0,n-1)\n",
    "    reverse(0,k)\n",
    "    reverse(k+1,n-1)\n",
    "    return a\n",
    "    \n",
    "\n",
    "\n",
    "\n",
    "nums  = [0,1,2,4,5,6,7]\n",
    "k = 3\n",
    "rot(nums,k)"
   ]
  },
  {
   "cell_type": "code",
   "execution_count": 19,
   "id": "efdb12cc",
   "metadata": {},
   "outputs": [
    {
     "data": {
      "text/plain": [
       "4"
      ]
     },
     "execution_count": 19,
     "metadata": {},
     "output_type": "execute_result"
    }
   ],
   "source": [
    "def search_rot(a,n,x):\n",
    "    low = 0\n",
    "    high = n-1\n",
    "    while low<=high:\n",
    "        mid = (low+high)//2\n",
    "        if a[mid] == x:\n",
    "            return mid\n",
    "        if a[low] <= a[mid]:\n",
    "            if a[low] <= x and a[mid] >= x:\n",
    "                high = mid -1\n",
    "            else:\n",
    "                low = mid+1\n",
    "        else:\n",
    "            if a[mid] <= x and a[high] >= x:\n",
    "                low = mid+1\n",
    "            else:\n",
    "                high = mid =1\n",
    "    return -1\n",
    "\n",
    "nums = [4, 5, 6, 7, 0, 1, 2]\n",
    "n = len(nums)\n",
    "k = 0\n",
    "search_rot(nums,n,k)\n"
   ]
  },
  {
   "cell_type": "code",
   "execution_count": null,
   "id": "329a2621",
   "metadata": {},
   "outputs": [
    {
     "data": {
      "text/plain": [
       "1"
      ]
     },
     "execution_count": 2,
     "metadata": {},
     "output_type": "execute_result"
    }
   ],
   "source": [
    "def search_rotated(a,n,x):\n",
    "    low = 0\n",
    "    high = n-1\n",
    "    while low<= high:\n",
    "        mid = (low+high)//2\n",
    "        if a[mid] == x:\n",
    "            return mid\n",
    "        if a[low] <= a[mid]:\n",
    "            if (a[low] <= x and a[mid]>=x):\n",
    "                high = mid-1\n",
    "            else:\n",
    "                low = mid+1\n",
    "        else:\n",
    "            if (a[mid] <= x and a[high]>= x):\n",
    "                low = mid+1\n",
    "            else:\n",
    "                high = mid-1\n",
    "    return -1\n",
    "\n",
    "\n",
    "\n",
    "nums = [4, 5, 6, 7, 0, 1, 2]\n",
    "n = len(nums)\n",
    "k = 5\n",
    "search_rotated(nums,n,k)"
   ]
  },
  {
   "cell_type": "code",
   "execution_count": null,
   "id": "59d381e1",
   "metadata": {},
   "outputs": [
    {
     "data": {
      "text/plain": [
       "True"
      ]
     },
     "execution_count": 11,
     "metadata": {},
     "output_type": "execute_result"
    }
   ],
   "source": [
    "def search_rotated_2(a,n,x):\n",
    "    low = 0\n",
    "    high = n-1\n",
    "    while low <=high:\n",
    "        mid  =(low+high)//2\n",
    "        if a[mid] == x:\n",
    "            return True\n",
    "        if a[low] <= a[mid]:\n",
    "            if a[low] <= x and a[mid] >=x:\n",
    "                high = mid-1\n",
    "            else:\n",
    "                low = mid+1\n",
    "        else:\n",
    "            if a[mid] <= x and a[high] >= x:\n",
    "                low = mid+1\n",
    "            else:\n",
    "                high = mid-1\n",
    "    return False\n",
    "\n",
    "\n",
    "\n",
    "nums = [2,5,6,0,0,2,2]\n",
    "n = len(nums)\n",
    "target = 2\n",
    "search_rotated_2(nums,n,target)\n"
   ]
  },
  {
   "cell_type": "code",
   "execution_count": 26,
   "id": "430f5cfa",
   "metadata": {},
   "outputs": [
    {
     "data": {
      "text/plain": [
       "0"
      ]
     },
     "execution_count": 26,
     "metadata": {},
     "output_type": "execute_result"
    }
   ],
   "source": [
    "def min_sorted(a,n):\n",
    "    low = 0\n",
    "    high = n-1\n",
    "    while(low<high):\n",
    "        mid = (low+high)//2\n",
    "        if a[high] < a[mid]:\n",
    "            low = mid+1\n",
    "        else:\n",
    "            high = mid\n",
    "    return a[low]\n",
    "\n",
    "\n",
    "\n",
    "    \n",
    "\n",
    "nums = [4, 5, 6, 7, 0, 1, 2, 3]\n",
    "n = len(nums)\n",
    "min_sorted(nums,n)"
   ]
  },
  {
   "cell_type": "code",
   "execution_count": 32,
   "id": "05fb66b0",
   "metadata": {},
   "outputs": [
    {
     "data": {
      "text/plain": [
       "1"
      ]
     },
     "execution_count": 32,
     "metadata": {},
     "output_type": "execute_result"
    }
   ],
   "source": [
    "def min_sorted2(a,n):\n",
    "    low = 0\n",
    "    high = n-1\n",
    "    ans = n\n",
    "    while (low<= high):\n",
    "        mid = (low+high)//2\n",
    "        if a[low] <= a[mid]:\n",
    "            ans = min(ans,a[low])\n",
    "            low = mid+1\n",
    "        else:\n",
    "            ans = min(ans,a[mid])\n",
    "            high = mid-1\n",
    "    return ans\n",
    "\n",
    "nums = [2,1]\n",
    "n = len(nums)\n",
    "min_sorted2(nums,n)"
   ]
  },
  {
   "cell_type": "code",
   "execution_count": null,
   "id": "e52fdd58",
   "metadata": {},
   "outputs": [],
   "source": [
    "def min_sort(a,n):\n",
    "    low =0\n",
    "    high = n-1\n",
    "    ans = float('inf')\n",
    "    while low<=high:\n",
    "        mid = (low+high)//2\n",
    "        if a[low] <= a[mid]:\n",
    "            ans = min(ans,a[low])\n",
    "            low = mid+1\n",
    "\n",
    "nums = [4, 5, 6, 7, 0, 1, 2, 3]\n",
    "n = len(nums)\n",
    "min_sorted2(nums,n)"
   ]
  }
 ],
 "metadata": {
  "kernelspec": {
   "display_name": "Python 3",
   "language": "python",
   "name": "python3"
  },
  "language_info": {
   "codemirror_mode": {
    "name": "ipython",
    "version": 3
   },
   "file_extension": ".py",
   "mimetype": "text/x-python",
   "name": "python",
   "nbconvert_exporter": "python",
   "pygments_lexer": "ipython3",
   "version": "3.13.5"
  }
 },
 "nbformat": 4,
 "nbformat_minor": 5
}
